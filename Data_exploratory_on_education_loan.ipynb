{
  "nbformat": 4,
  "nbformat_minor": 0,
  "metadata": {
    "colab": {
      "provenance": []
    },
    "kernelspec": {
      "name": "ir",
      "display_name": "R"
    },
    "language_info": {
      "name": "R"
    },
    "gpuClass": "standard"
  },
  "cells": [
    {
      "cell_type": "markdown",
      "source": [
        "Exploratory Analysis"
      ],
      "metadata": {
        "id": "VROX7E81uJpY"
      }
    },
    {
      "cell_type": "code",
      "source": [
        "# Import R packages \n",
        "library(dplyr)\n",
        "library(ggplot2)"
      ],
      "metadata": {
        "id": "Q_qqQHTyuYdp",
        "colab": {
          "base_uri": "https://localhost:8080/"
        },
        "outputId": "6e60736b-c13a-4afd-e0ce-383cca6942da"
      },
      "execution_count": null,
      "outputs": [
        {
          "output_type": "stream",
          "name": "stderr",
          "text": [
            "\n",
            "Attaching package: ‘dplyr’\n",
            "\n",
            "\n",
            "The following objects are masked from ‘package:stats’:\n",
            "\n",
            "    filter, lag\n",
            "\n",
            "\n",
            "The following objects are masked from ‘package:base’:\n",
            "\n",
            "    intersect, setdiff, setequal, union\n",
            "\n",
            "\n"
          ]
        }
      ]
    },
    {
      "cell_type": "code",
      "source": [
        "# Read the dataset_R CSV file \n",
        "data=read.csv('/content/dataset_R.csv')"
      ],
      "metadata": {
        "id": "2_4zaPA7ulqj"
      },
      "execution_count": null,
      "outputs": []
    },
    {
      "cell_type": "code",
      "source": [
        "# return the first 5 rows of the dataset\n",
        "head(data,5)"
      ],
      "metadata": {
        "colab": {
          "base_uri": "https://localhost:8080/",
          "height": 255
        },
        "id": "ESKiYVeGvgT1",
        "outputId": "54fb782b-2421-4584-8e4f-4d5cdfcef556"
      },
      "execution_count": null,
      "outputs": [
        {
          "output_type": "display_data",
          "data": {
            "text/html": [
              "<table class=\"dataframe\">\n",
              "<caption>A data.frame: 5 × 13</caption>\n",
              "<thead>\n",
              "\t<tr><th></th><th scope=col>Loan_ID</th><th scope=col>Gender</th><th scope=col>Married</th><th scope=col>Dependents</th><th scope=col>Education</th><th scope=col>Self_Employed</th><th scope=col>ApplicantIncome</th><th scope=col>CoapplicantIncome</th><th scope=col>LoanAmount</th><th scope=col>Loan_Amount_Term</th><th scope=col>Credit_History</th><th scope=col>Property_Area</th><th scope=col>Loan_Status</th></tr>\n",
              "\t<tr><th></th><th scope=col>&lt;chr&gt;</th><th scope=col>&lt;chr&gt;</th><th scope=col>&lt;chr&gt;</th><th scope=col>&lt;chr&gt;</th><th scope=col>&lt;chr&gt;</th><th scope=col>&lt;chr&gt;</th><th scope=col>&lt;int&gt;</th><th scope=col>&lt;dbl&gt;</th><th scope=col>&lt;int&gt;</th><th scope=col>&lt;int&gt;</th><th scope=col>&lt;int&gt;</th><th scope=col>&lt;chr&gt;</th><th scope=col>&lt;chr&gt;</th></tr>\n",
              "</thead>\n",
              "<tbody>\n",
              "\t<tr><th scope=row>1</th><td>LP001002</td><td>Male</td><td>No </td><td>0</td><td>Graduate    </td><td>No </td><td>5849</td><td>   0</td><td> NA</td><td>360</td><td>1</td><td>Urban</td><td>Y</td></tr>\n",
              "\t<tr><th scope=row>2</th><td>LP001003</td><td>Male</td><td>Yes</td><td>1</td><td>Graduate    </td><td>No </td><td>4583</td><td>1508</td><td>128</td><td>360</td><td>1</td><td>Rural</td><td>N</td></tr>\n",
              "\t<tr><th scope=row>3</th><td>LP001005</td><td>Male</td><td>Yes</td><td>0</td><td>Graduate    </td><td>Yes</td><td>3000</td><td>   0</td><td> 66</td><td>360</td><td>1</td><td>Urban</td><td>Y</td></tr>\n",
              "\t<tr><th scope=row>4</th><td>LP001006</td><td>Male</td><td>Yes</td><td>0</td><td>Not Graduate</td><td>No </td><td>2583</td><td>2358</td><td>120</td><td>360</td><td>1</td><td>Urban</td><td>Y</td></tr>\n",
              "\t<tr><th scope=row>5</th><td>LP001008</td><td>Male</td><td>No </td><td>0</td><td>Graduate    </td><td>No </td><td>6000</td><td>   0</td><td>141</td><td>360</td><td>1</td><td>Urban</td><td>Y</td></tr>\n",
              "</tbody>\n",
              "</table>\n"
            ],
            "text/markdown": "\nA data.frame: 5 × 13\n\n| <!--/--> | Loan_ID &lt;chr&gt; | Gender &lt;chr&gt; | Married &lt;chr&gt; | Dependents &lt;chr&gt; | Education &lt;chr&gt; | Self_Employed &lt;chr&gt; | ApplicantIncome &lt;int&gt; | CoapplicantIncome &lt;dbl&gt; | LoanAmount &lt;int&gt; | Loan_Amount_Term &lt;int&gt; | Credit_History &lt;int&gt; | Property_Area &lt;chr&gt; | Loan_Status &lt;chr&gt; |\n|---|---|---|---|---|---|---|---|---|---|---|---|---|---|\n| 1 | LP001002 | Male | No  | 0 | Graduate     | No  | 5849 |    0 |  NA | 360 | 1 | Urban | Y |\n| 2 | LP001003 | Male | Yes | 1 | Graduate     | No  | 4583 | 1508 | 128 | 360 | 1 | Rural | N |\n| 3 | LP001005 | Male | Yes | 0 | Graduate     | Yes | 3000 |    0 |  66 | 360 | 1 | Urban | Y |\n| 4 | LP001006 | Male | Yes | 0 | Not Graduate | No  | 2583 | 2358 | 120 | 360 | 1 | Urban | Y |\n| 5 | LP001008 | Male | No  | 0 | Graduate     | No  | 6000 |    0 | 141 | 360 | 1 | Urban | Y |\n\n",
            "text/latex": "A data.frame: 5 × 13\n\\begin{tabular}{r|lllllllllllll}\n  & Loan\\_ID & Gender & Married & Dependents & Education & Self\\_Employed & ApplicantIncome & CoapplicantIncome & LoanAmount & Loan\\_Amount\\_Term & Credit\\_History & Property\\_Area & Loan\\_Status\\\\\n  & <chr> & <chr> & <chr> & <chr> & <chr> & <chr> & <int> & <dbl> & <int> & <int> & <int> & <chr> & <chr>\\\\\n\\hline\n\t1 & LP001002 & Male & No  & 0 & Graduate     & No  & 5849 &    0 &  NA & 360 & 1 & Urban & Y\\\\\n\t2 & LP001003 & Male & Yes & 1 & Graduate     & No  & 4583 & 1508 & 128 & 360 & 1 & Rural & N\\\\\n\t3 & LP001005 & Male & Yes & 0 & Graduate     & Yes & 3000 &    0 &  66 & 360 & 1 & Urban & Y\\\\\n\t4 & LP001006 & Male & Yes & 0 & Not Graduate & No  & 2583 & 2358 & 120 & 360 & 1 & Urban & Y\\\\\n\t5 & LP001008 & Male & No  & 0 & Graduate     & No  & 6000 &    0 & 141 & 360 & 1 & Urban & Y\\\\\n\\end{tabular}\n",
            "text/plain": [
              "  Loan_ID  Gender Married Dependents Education    Self_Employed ApplicantIncome\n",
              "1 LP001002 Male   No      0          Graduate     No            5849           \n",
              "2 LP001003 Male   Yes     1          Graduate     No            4583           \n",
              "3 LP001005 Male   Yes     0          Graduate     Yes           3000           \n",
              "4 LP001006 Male   Yes     0          Not Graduate No            2583           \n",
              "5 LP001008 Male   No      0          Graduate     No            6000           \n",
              "  CoapplicantIncome LoanAmount Loan_Amount_Term Credit_History Property_Area\n",
              "1    0               NA        360              1              Urban        \n",
              "2 1508              128        360              1              Rural        \n",
              "3    0               66        360              1              Urban        \n",
              "4 2358              120        360              1              Urban        \n",
              "5    0              141        360              1              Urban        \n",
              "  Loan_Status\n",
              "1 Y          \n",
              "2 N          \n",
              "3 Y          \n",
              "4 Y          \n",
              "5 Y          "
            ]
          },
          "metadata": {}
        }
      ]
    },
    {
      "cell_type": "markdown",
      "source": [
        "Statistical Exploratory Data Analysis"
      ],
      "metadata": {
        "id": "81Gf_pb4wClj"
      }
    },
    {
      "cell_type": "code",
      "source": [
        "# If any, print the total number of null values for each column in the dataset. Explain how you handle the null values (Hint: Null values must be filled or dropped from the dataset accordingly. How you handle the null values is upto you)\n",
        "\n",
        "print(colSums(is.na(data)))"
      ],
      "metadata": {
        "colab": {
          "base_uri": "https://localhost:8080/"
        },
        "id": "Ys4Gda3wv4uj",
        "outputId": "6ef4cf33-d6c8-4641-fea8-c42952419d2b"
      },
      "execution_count": null,
      "outputs": [
        {
          "output_type": "stream",
          "name": "stdout",
          "text": [
            "          Loan_ID            Gender           Married        Dependents \n",
            "                0                 0                 0                 0 \n",
            "        Education     Self_Employed   ApplicantIncome CoapplicantIncome \n",
            "                0                 0                 0                 0 \n",
            "       LoanAmount  Loan_Amount_Term    Credit_History     Property_Area \n",
            "               22                14                50                 0 \n",
            "      Loan_Status \n",
            "                0 \n"
          ]
        }
      ]
    },
    {
      "cell_type": "markdown",
      "source": [
        "#We are removing na values using na.omit()"
      ],
      "metadata": {
        "id": "14AUNn1lwQsx"
      }
    },
    {
      "cell_type": "code",
      "source": [
        "data<-na.omit(data)\n",
        "print(colSums(is.na(data)))"
      ],
      "metadata": {
        "colab": {
          "base_uri": "https://localhost:8080/"
        },
        "id": "6RR0QEr5ESeN",
        "outputId": "42459437-fded-4960-aaf5-90957f816299"
      },
      "execution_count": null,
      "outputs": [
        {
          "output_type": "stream",
          "name": "stdout",
          "text": [
            "          Loan_ID            Gender           Married        Dependents \n",
            "                0                 0                 0                 0 \n",
            "        Education     Self_Employed   ApplicantIncome CoapplicantIncome \n",
            "                0                 0                 0                 0 \n",
            "       LoanAmount  Loan_Amount_Term    Credit_History     Property_Area \n",
            "                0                 0                 0                 0 \n",
            "      Loan_Status \n",
            "                0 \n"
          ]
        }
      ]
    },
    {
      "cell_type": "code",
      "source": [
        "# Print the details of dataframe\n",
        "str(data)"
      ],
      "metadata": {
        "colab": {
          "base_uri": "https://localhost:8080/"
        },
        "id": "3Ts21SN_EsaW",
        "outputId": "c0888396-1f2a-4800-d513-f8513b27267b"
      },
      "execution_count": null,
      "outputs": [
        {
          "output_type": "stream",
          "name": "stdout",
          "text": [
            "'data.frame':\t529 obs. of  13 variables:\n",
            " $ Loan_ID          : chr  \"LP001003\" \"LP001005\" \"LP001006\" \"LP001008\" ...\n",
            " $ Gender           : chr  \"Male\" \"Male\" \"Male\" \"Male\" ...\n",
            " $ Married          : chr  \"Yes\" \"Yes\" \"Yes\" \"No\" ...\n",
            " $ Dependents       : chr  \"1\" \"0\" \"0\" \"0\" ...\n",
            " $ Education        : chr  \"Graduate\" \"Graduate\" \"Not Graduate\" \"Graduate\" ...\n",
            " $ Self_Employed    : chr  \"No\" \"Yes\" \"No\" \"No\" ...\n",
            " $ ApplicantIncome  : int  4583 3000 2583 6000 5417 2333 3036 4006 12841 3200 ...\n",
            " $ CoapplicantIncome: num  1508 0 2358 0 4196 ...\n",
            " $ LoanAmount       : int  128 66 120 141 267 95 158 168 349 70 ...\n",
            " $ Loan_Amount_Term : int  360 360 360 360 360 360 360 360 360 360 ...\n",
            " $ Credit_History   : int  1 1 1 1 1 1 0 1 1 1 ...\n",
            " $ Property_Area    : chr  \"Rural\" \"Urban\" \"Urban\" \"Urban\" ...\n",
            " $ Loan_Status      : chr  \"N\" \"Y\" \"Y\" \"Y\" ...\n",
            " - attr(*, \"na.action\")= 'omit' Named int [1:85] 1 17 20 25 31 36 37 43 45 46 ...\n",
            "  ..- attr(*, \"names\")= chr [1:85] \"1\" \"17\" \"20\" \"25\" ...\n"
          ]
        }
      ]
    },
    {
      "cell_type": "markdown",
      "source": [
        "#nrow() and ncol() are used to print the no of rows and columns"
      ],
      "metadata": {
        "id": "1Ot25wKbwb5-"
      }
    },
    {
      "cell_type": "code",
      "source": [
        "paste('row: ',nrow(data),' column: ',ncol(data))"
      ],
      "metadata": {
        "colab": {
          "base_uri": "https://localhost:8080/",
          "height": 34
        },
        "id": "NnZ7bPIRwP40",
        "outputId": "fdcdd15c-f074-4d8b-b75b-3222c4bf8a7d"
      },
      "execution_count": null,
      "outputs": [
        {
          "output_type": "display_data",
          "data": {
            "text/html": [
              "<span style=white-space:pre-wrap>'row:  529  column:  13'</span>"
            ],
            "text/markdown": "<span style=white-space:pre-wrap>'row:  529  column:  13'</span>",
            "text/latex": "'row:  529  column:  13'",
            "text/plain": [
              "[1] \"row:  529  column:  13\""
            ]
          },
          "metadata": {}
        }
      ]
    },
    {
      "cell_type": "code",
      "source": [
        "# Printing descriptive detail of a column in dataset\n",
        "\n",
        "print(summary(data))"
      ],
      "metadata": {
        "colab": {
          "base_uri": "https://localhost:8080/"
        },
        "id": "buyKlz9qxP35",
        "outputId": "afe748d2-5e10-459f-fd7a-62391dfadbcc"
      },
      "execution_count": null,
      "outputs": [
        {
          "output_type": "stream",
          "name": "stdout",
          "text": [
            "   Loan_ID             Gender            Married           Dependents       \n",
            " Length:529         Length:529         Length:529         Length:529        \n",
            " Class :character   Class :character   Class :character   Class :character  \n",
            " Mode  :character   Mode  :character   Mode  :character   Mode  :character  \n",
            "                                                                            \n",
            "                                                                            \n",
            "                                                                            \n",
            "  Education         Self_Employed      ApplicantIncome CoapplicantIncome\n",
            " Length:529         Length:529         Min.   :  150   Min.   :    0    \n",
            " Class :character   Class :character   1st Qu.: 2900   1st Qu.:    0    \n",
            " Mode  :character   Mode  :character   Median : 3816   Median : 1086    \n",
            "                                       Mean   : 5508   Mean   : 1542    \n",
            "                                       3rd Qu.: 5815   3rd Qu.: 2232    \n",
            "                                       Max.   :81000   Max.   :33837    \n",
            "   LoanAmount    Loan_Amount_Term Credit_History   Property_Area     \n",
            " Min.   :  9.0   Min.   : 36.0    Min.   :0.0000   Length:529        \n",
            " 1st Qu.:100.0   1st Qu.:360.0    1st Qu.:1.0000   Class :character  \n",
            " Median :128.0   Median :360.0    Median :1.0000   Mode  :character  \n",
            " Mean   :145.9   Mean   :342.4    Mean   :0.8507                     \n",
            " 3rd Qu.:167.0   3rd Qu.:360.0    3rd Qu.:1.0000                     \n",
            " Max.   :700.0   Max.   :480.0    Max.   :1.0000                     \n",
            " Loan_Status       \n",
            " Length:529        \n",
            " Class :character  \n",
            " Mode  :character  \n",
            "                   \n",
            "                   \n",
            "                   \n"
          ]
        }
      ]
    },
    {
      "cell_type": "markdown",
      "source": [
        "# Aggregation & Filtering & Rank"
      ],
      "metadata": {
        "id": "WXfolHSc0Z_k"
      }
    },
    {
      "cell_type": "code",
      "source": [
        "# Finding out the number of graduates from rural area\n",
        "\n",
        "data %>% filter(Education=='Graduate' & Property_Area=='Rural')"
      ],
      "metadata": {
        "colab": {
          "base_uri": "https://localhost:8080/",
          "height": 1000
        },
        "id": "_ZQC-W3Qzc6E",
        "outputId": "cf473788-f63c-40c8-fad9-02fc56e064ac"
      },
      "execution_count": null,
      "outputs": [
        {
          "output_type": "display_data",
          "data": {
            "text/html": [
              "<table class=\"dataframe\">\n",
              "<caption>A data.frame: 115 × 13</caption>\n",
              "<thead>\n",
              "\t<tr><th scope=col>Loan_ID</th><th scope=col>Gender</th><th scope=col>Married</th><th scope=col>Dependents</th><th scope=col>Education</th><th scope=col>Self_Employed</th><th scope=col>ApplicantIncome</th><th scope=col>CoapplicantIncome</th><th scope=col>LoanAmount</th><th scope=col>Loan_Amount_Term</th><th scope=col>Credit_History</th><th scope=col>Property_Area</th><th scope=col>Loan_Status</th></tr>\n",
              "\t<tr><th scope=col>&lt;chr&gt;</th><th scope=col>&lt;chr&gt;</th><th scope=col>&lt;chr&gt;</th><th scope=col>&lt;chr&gt;</th><th scope=col>&lt;chr&gt;</th><th scope=col>&lt;chr&gt;</th><th scope=col>&lt;int&gt;</th><th scope=col>&lt;dbl&gt;</th><th scope=col>&lt;int&gt;</th><th scope=col>&lt;int&gt;</th><th scope=col>&lt;int&gt;</th><th scope=col>&lt;chr&gt;</th><th scope=col>&lt;chr&gt;</th></tr>\n",
              "</thead>\n",
              "<tbody>\n",
              "\t<tr><td>LP001003</td><td>Male  </td><td>Yes</td><td>1 </td><td>Graduate</td><td>No </td><td> 4583</td><td>1508</td><td>128</td><td>360</td><td>1</td><td>Rural</td><td>N</td></tr>\n",
              "\t<tr><td>LP001029</td><td>Male  </td><td>No </td><td>0 </td><td>Graduate</td><td>No </td><td> 1853</td><td>2840</td><td>114</td><td>360</td><td>1</td><td>Rural</td><td>N</td></tr>\n",
              "\t<tr><td>LP001097</td><td>Male  </td><td>No </td><td>1 </td><td>Graduate</td><td>Yes</td><td> 4692</td><td>   0</td><td>106</td><td>360</td><td>1</td><td>Rural</td><td>N</td></tr>\n",
              "\t<tr><td>LP001100</td><td>Male  </td><td>No </td><td>3+</td><td>Graduate</td><td>No </td><td>12500</td><td>3000</td><td>320</td><td>360</td><td>1</td><td>Rural</td><td>N</td></tr>\n",
              "\t<tr><td>LP001197</td><td>Male  </td><td>Yes</td><td>0 </td><td>Graduate</td><td>No </td><td> 3366</td><td>2200</td><td>135</td><td>360</td><td>1</td><td>Rural</td><td>N</td></tr>\n",
              "\t<tr><td>LP001401</td><td>Male  </td><td>Yes</td><td>1 </td><td>Graduate</td><td>No </td><td>14583</td><td>   0</td><td>185</td><td>180</td><td>1</td><td>Rural</td><td>Y</td></tr>\n",
              "\t<tr><td>LP001421</td><td>Male  </td><td>Yes</td><td>0 </td><td>Graduate</td><td>No </td><td> 5568</td><td>2142</td><td>175</td><td>360</td><td>1</td><td>Rural</td><td>N</td></tr>\n",
              "\t<tr><td>LP001426</td><td>Male  </td><td>Yes</td><td>  </td><td>Graduate</td><td>No </td><td> 5667</td><td>2667</td><td>180</td><td>360</td><td>1</td><td>Rural</td><td>Y</td></tr>\n",
              "\t<tr><td>LP001448</td><td>      </td><td>Yes</td><td>3+</td><td>Graduate</td><td>No </td><td>23803</td><td>   0</td><td>370</td><td>360</td><td>1</td><td>Rural</td><td>Y</td></tr>\n",
              "\t<tr><td>LP001489</td><td>Female</td><td>Yes</td><td>0 </td><td>Graduate</td><td>No </td><td> 4583</td><td>   0</td><td> 84</td><td>360</td><td>1</td><td>Rural</td><td>N</td></tr>\n",
              "\t<tr><td>LP001497</td><td>Male  </td><td>Yes</td><td>2 </td><td>Graduate</td><td>No </td><td> 5042</td><td>2083</td><td>185</td><td>360</td><td>1</td><td>Rural</td><td>N</td></tr>\n",
              "\t<tr><td>LP001519</td><td>Female</td><td>No </td><td>0 </td><td>Graduate</td><td>No </td><td>10000</td><td>1666</td><td>225</td><td>360</td><td>1</td><td>Rural</td><td>N</td></tr>\n",
              "\t<tr><td>LP001528</td><td>Male  </td><td>No </td><td>0 </td><td>Graduate</td><td>No </td><td> 6277</td><td>   0</td><td>118</td><td>360</td><td>0</td><td>Rural</td><td>N</td></tr>\n",
              "\t<tr><td>LP001529</td><td>Male  </td><td>Yes</td><td>0 </td><td>Graduate</td><td>Yes</td><td> 2577</td><td>3750</td><td>152</td><td>360</td><td>1</td><td>Rural</td><td>Y</td></tr>\n",
              "\t<tr><td>LP001546</td><td>Male  </td><td>No </td><td>0 </td><td>Graduate</td><td>   </td><td> 2980</td><td>2083</td><td>120</td><td>360</td><td>1</td><td>Rural</td><td>Y</td></tr>\n",
              "\t<tr><td>LP001570</td><td>Male  </td><td>Yes</td><td>2 </td><td>Graduate</td><td>No </td><td> 4167</td><td>1447</td><td>158</td><td>360</td><td>1</td><td>Rural</td><td>Y</td></tr>\n",
              "\t<tr><td>LP001577</td><td>Female</td><td>Yes</td><td>0 </td><td>Graduate</td><td>No </td><td> 4583</td><td>   0</td><td>112</td><td>360</td><td>1</td><td>Rural</td><td>N</td></tr>\n",
              "\t<tr><td>LP001578</td><td>Male  </td><td>Yes</td><td>0 </td><td>Graduate</td><td>No </td><td> 2439</td><td>3333</td><td>129</td><td>360</td><td>1</td><td>Rural</td><td>Y</td></tr>\n",
              "\t<tr><td>LP001606</td><td>Male  </td><td>Yes</td><td>0 </td><td>Graduate</td><td>No </td><td> 3497</td><td>1964</td><td>116</td><td>360</td><td>1</td><td>Rural</td><td>Y</td></tr>\n",
              "\t<tr><td>LP001608</td><td>Male  </td><td>Yes</td><td>2 </td><td>Graduate</td><td>No </td><td> 2045</td><td>1619</td><td>101</td><td>360</td><td>1</td><td>Rural</td><td>Y</td></tr>\n",
              "\t<tr><td>LP001641</td><td>Male  </td><td>Yes</td><td>1 </td><td>Graduate</td><td>Yes</td><td> 2178</td><td>   0</td><td> 66</td><td>300</td><td>0</td><td>Rural</td><td>N</td></tr>\n",
              "\t<tr><td>LP001644</td><td>      </td><td>Yes</td><td>0 </td><td>Graduate</td><td>Yes</td><td>  674</td><td>5296</td><td>168</td><td>360</td><td>1</td><td>Rural</td><td>Y</td></tr>\n",
              "\t<tr><td>LP001647</td><td>Male  </td><td>Yes</td><td>0 </td><td>Graduate</td><td>No </td><td> 9328</td><td>   0</td><td>188</td><td>180</td><td>1</td><td>Rural</td><td>Y</td></tr>\n",
              "\t<tr><td>LP001664</td><td>Male  </td><td>No </td><td>0 </td><td>Graduate</td><td>No </td><td> 4191</td><td>   0</td><td>120</td><td>360</td><td>1</td><td>Rural</td><td>Y</td></tr>\n",
              "\t<tr><td>LP001666</td><td>Male  </td><td>No </td><td>0 </td><td>Graduate</td><td>No </td><td> 8333</td><td>3750</td><td>187</td><td>360</td><td>1</td><td>Rural</td><td>Y</td></tr>\n",
              "\t<tr><td>LP001722</td><td>Male  </td><td>Yes</td><td>0 </td><td>Graduate</td><td>No </td><td>  150</td><td>1800</td><td>135</td><td>360</td><td>1</td><td>Rural</td><td>N</td></tr>\n",
              "\t<tr><td>LP001751</td><td>Male  </td><td>Yes</td><td>0 </td><td>Graduate</td><td>No </td><td> 3250</td><td>   0</td><td>170</td><td>360</td><td>1</td><td>Rural</td><td>N</td></tr>\n",
              "\t<tr><td>LP001761</td><td>Male  </td><td>No </td><td>0 </td><td>Graduate</td><td>Yes</td><td> 6400</td><td>   0</td><td>200</td><td>360</td><td>1</td><td>Rural</td><td>Y</td></tr>\n",
              "\t<tr><td>LP001768</td><td>Male  </td><td>Yes</td><td>0 </td><td>Graduate</td><td>   </td><td> 3716</td><td>   0</td><td> 42</td><td>180</td><td>1</td><td>Rural</td><td>Y</td></tr>\n",
              "\t<tr><td>LP001784</td><td>Male  </td><td>Yes</td><td>1 </td><td>Graduate</td><td>No </td><td> 5500</td><td>1260</td><td>170</td><td>360</td><td>1</td><td>Rural</td><td>Y</td></tr>\n",
              "\t<tr><td>⋮</td><td>⋮</td><td>⋮</td><td>⋮</td><td>⋮</td><td>⋮</td><td>⋮</td><td>⋮</td><td>⋮</td><td>⋮</td><td>⋮</td><td>⋮</td><td>⋮</td></tr>\n",
              "\t<tr><td>LP002494</td><td>Male  </td><td>No </td><td>0 </td><td>Graduate</td><td>No </td><td> 6000</td><td>   0</td><td>140</td><td>360</td><td>1</td><td>Rural</td><td>Y</td></tr>\n",
              "\t<tr><td>LP002524</td><td>Male  </td><td>No </td><td>2 </td><td>Graduate</td><td>No </td><td> 5532</td><td>4648</td><td>162</td><td>360</td><td>1</td><td>Rural</td><td>Y</td></tr>\n",
              "\t<tr><td>LP002527</td><td>Male  </td><td>Yes</td><td>2 </td><td>Graduate</td><td>Yes</td><td>16525</td><td>1014</td><td>150</td><td>360</td><td>1</td><td>Rural</td><td>Y</td></tr>\n",
              "\t<tr><td>LP002545</td><td>Male  </td><td>No </td><td>2 </td><td>Graduate</td><td>No </td><td> 3547</td><td>   0</td><td> 80</td><td>360</td><td>0</td><td>Rural</td><td>N</td></tr>\n",
              "\t<tr><td>LP002585</td><td>Male  </td><td>Yes</td><td>0 </td><td>Graduate</td><td>No </td><td> 3597</td><td>2157</td><td>119</td><td>360</td><td>0</td><td>Rural</td><td>N</td></tr>\n",
              "\t<tr><td>LP002602</td><td>Male  </td><td>No </td><td>0 </td><td>Graduate</td><td>No </td><td> 6283</td><td>4416</td><td>209</td><td>360</td><td>0</td><td>Rural</td><td>N</td></tr>\n",
              "\t<tr><td>LP002603</td><td>Female</td><td>No </td><td>0 </td><td>Graduate</td><td>No </td><td>  645</td><td>3683</td><td>113</td><td>480</td><td>1</td><td>Rural</td><td>Y</td></tr>\n",
              "\t<tr><td>LP002622</td><td>Male  </td><td>Yes</td><td>2 </td><td>Graduate</td><td>No </td><td> 3510</td><td>4416</td><td>243</td><td>360</td><td>1</td><td>Rural</td><td>Y</td></tr>\n",
              "\t<tr><td>LP002652</td><td>Male  </td><td>No </td><td>0 </td><td>Graduate</td><td>No </td><td> 5815</td><td>3666</td><td>311</td><td>360</td><td>1</td><td>Rural</td><td>N</td></tr>\n",
              "\t<tr><td>LP002659</td><td>Male  </td><td>Yes</td><td>3+</td><td>Graduate</td><td>No </td><td> 3466</td><td>3428</td><td>150</td><td>360</td><td>1</td><td>Rural</td><td>Y</td></tr>\n",
              "\t<tr><td>LP002692</td><td>Male  </td><td>Yes</td><td>3+</td><td>Graduate</td><td>Yes</td><td> 5677</td><td>1424</td><td>100</td><td>360</td><td>1</td><td>Rural</td><td>Y</td></tr>\n",
              "\t<tr><td>LP002693</td><td>Male  </td><td>Yes</td><td>2 </td><td>Graduate</td><td>Yes</td><td> 7948</td><td>7166</td><td>480</td><td>360</td><td>1</td><td>Rural</td><td>Y</td></tr>\n",
              "\t<tr><td>LP002699</td><td>Male  </td><td>Yes</td><td>2 </td><td>Graduate</td><td>Yes</td><td>17500</td><td>   0</td><td>400</td><td>360</td><td>1</td><td>Rural</td><td>Y</td></tr>\n",
              "\t<tr><td>LP002723</td><td>Male  </td><td>No </td><td>2 </td><td>Graduate</td><td>No </td><td> 3588</td><td>   0</td><td>110</td><td>360</td><td>0</td><td>Rural</td><td>N</td></tr>\n",
              "\t<tr><td>LP002740</td><td>Male  </td><td>Yes</td><td>3+</td><td>Graduate</td><td>No </td><td> 6417</td><td>   0</td><td>157</td><td>180</td><td>1</td><td>Rural</td><td>Y</td></tr>\n",
              "\t<tr><td>LP002767</td><td>Male  </td><td>Yes</td><td>0 </td><td>Graduate</td><td>No </td><td> 2768</td><td>1950</td><td>155</td><td>360</td><td>1</td><td>Rural</td><td>Y</td></tr>\n",
              "\t<tr><td>LP002772</td><td>Male  </td><td>No </td><td>0 </td><td>Graduate</td><td>No </td><td> 2526</td><td>1783</td><td>145</td><td>360</td><td>1</td><td>Rural</td><td>Y</td></tr>\n",
              "\t<tr><td>LP002777</td><td>Male  </td><td>Yes</td><td>0 </td><td>Graduate</td><td>No </td><td> 2785</td><td>2016</td><td>110</td><td>360</td><td>1</td><td>Rural</td><td>Y</td></tr>\n",
              "\t<tr><td>LP002789</td><td>Male  </td><td>Yes</td><td>0 </td><td>Graduate</td><td>No </td><td> 3593</td><td>4266</td><td>132</td><td>180</td><td>0</td><td>Rural</td><td>N</td></tr>\n",
              "\t<tr><td>LP002820</td><td>Male  </td><td>Yes</td><td>0 </td><td>Graduate</td><td>No </td><td> 5923</td><td>2054</td><td>211</td><td>360</td><td>1</td><td>Rural</td><td>Y</td></tr>\n",
              "\t<tr><td>LP002837</td><td>Male  </td><td>Yes</td><td>3+</td><td>Graduate</td><td>No </td><td> 3400</td><td>2500</td><td>123</td><td>360</td><td>0</td><td>Rural</td><td>N</td></tr>\n",
              "\t<tr><td>LP002877</td><td>Male  </td><td>Yes</td><td>1 </td><td>Graduate</td><td>No </td><td> 1782</td><td>2232</td><td>107</td><td>360</td><td>1</td><td>Rural</td><td>Y</td></tr>\n",
              "\t<tr><td>LP002911</td><td>Male  </td><td>Yes</td><td>1 </td><td>Graduate</td><td>No </td><td> 2787</td><td>1917</td><td>146</td><td>360</td><td>0</td><td>Rural</td><td>N</td></tr>\n",
              "\t<tr><td>LP002912</td><td>Male  </td><td>Yes</td><td>1 </td><td>Graduate</td><td>No </td><td> 4283</td><td>3000</td><td>172</td><td> 84</td><td>1</td><td>Rural</td><td>N</td></tr>\n",
              "\t<tr><td>LP002936</td><td>Male  </td><td>Yes</td><td>0 </td><td>Graduate</td><td>No </td><td> 3859</td><td>3300</td><td>142</td><td>180</td><td>1</td><td>Rural</td><td>Y</td></tr>\n",
              "\t<tr><td>LP002945</td><td>Male  </td><td>Yes</td><td>0 </td><td>Graduate</td><td>Yes</td><td> 9963</td><td>   0</td><td>180</td><td>360</td><td>1</td><td>Rural</td><td>Y</td></tr>\n",
              "\t<tr><td>LP002958</td><td>Male  </td><td>No </td><td>0 </td><td>Graduate</td><td>No </td><td> 3676</td><td>4301</td><td>172</td><td>360</td><td>1</td><td>Rural</td><td>Y</td></tr>\n",
              "\t<tr><td>LP002974</td><td>Male  </td><td>Yes</td><td>0 </td><td>Graduate</td><td>No </td><td> 3232</td><td>1950</td><td>108</td><td>360</td><td>1</td><td>Rural</td><td>Y</td></tr>\n",
              "\t<tr><td>LP002978</td><td>Female</td><td>No </td><td>0 </td><td>Graduate</td><td>No </td><td> 2900</td><td>   0</td><td> 71</td><td>360</td><td>1</td><td>Rural</td><td>Y</td></tr>\n",
              "\t<tr><td>LP002979</td><td>Male  </td><td>Yes</td><td>3+</td><td>Graduate</td><td>No </td><td> 4106</td><td>   0</td><td> 40</td><td>180</td><td>1</td><td>Rural</td><td>Y</td></tr>\n",
              "</tbody>\n",
              "</table>\n"
            ],
            "text/markdown": "\nA data.frame: 115 × 13\n\n| Loan_ID &lt;chr&gt; | Gender &lt;chr&gt; | Married &lt;chr&gt; | Dependents &lt;chr&gt; | Education &lt;chr&gt; | Self_Employed &lt;chr&gt; | ApplicantIncome &lt;int&gt; | CoapplicantIncome &lt;dbl&gt; | LoanAmount &lt;int&gt; | Loan_Amount_Term &lt;int&gt; | Credit_History &lt;int&gt; | Property_Area &lt;chr&gt; | Loan_Status &lt;chr&gt; |\n|---|---|---|---|---|---|---|---|---|---|---|---|---|\n| LP001003 | Male   | Yes | 1  | Graduate | No  |  4583 | 1508 | 128 | 360 | 1 | Rural | N |\n| LP001029 | Male   | No  | 0  | Graduate | No  |  1853 | 2840 | 114 | 360 | 1 | Rural | N |\n| LP001097 | Male   | No  | 1  | Graduate | Yes |  4692 |    0 | 106 | 360 | 1 | Rural | N |\n| LP001100 | Male   | No  | 3+ | Graduate | No  | 12500 | 3000 | 320 | 360 | 1 | Rural | N |\n| LP001197 | Male   | Yes | 0  | Graduate | No  |  3366 | 2200 | 135 | 360 | 1 | Rural | N |\n| LP001401 | Male   | Yes | 1  | Graduate | No  | 14583 |    0 | 185 | 180 | 1 | Rural | Y |\n| LP001421 | Male   | Yes | 0  | Graduate | No  |  5568 | 2142 | 175 | 360 | 1 | Rural | N |\n| LP001426 | Male   | Yes | <!----> | Graduate | No  |  5667 | 2667 | 180 | 360 | 1 | Rural | Y |\n| LP001448 | <!----> | Yes | 3+ | Graduate | No  | 23803 |    0 | 370 | 360 | 1 | Rural | Y |\n| LP001489 | Female | Yes | 0  | Graduate | No  |  4583 |    0 |  84 | 360 | 1 | Rural | N |\n| LP001497 | Male   | Yes | 2  | Graduate | No  |  5042 | 2083 | 185 | 360 | 1 | Rural | N |\n| LP001519 | Female | No  | 0  | Graduate | No  | 10000 | 1666 | 225 | 360 | 1 | Rural | N |\n| LP001528 | Male   | No  | 0  | Graduate | No  |  6277 |    0 | 118 | 360 | 0 | Rural | N |\n| LP001529 | Male   | Yes | 0  | Graduate | Yes |  2577 | 3750 | 152 | 360 | 1 | Rural | Y |\n| LP001546 | Male   | No  | 0  | Graduate | <!----> |  2980 | 2083 | 120 | 360 | 1 | Rural | Y |\n| LP001570 | Male   | Yes | 2  | Graduate | No  |  4167 | 1447 | 158 | 360 | 1 | Rural | Y |\n| LP001577 | Female | Yes | 0  | Graduate | No  |  4583 |    0 | 112 | 360 | 1 | Rural | N |\n| LP001578 | Male   | Yes | 0  | Graduate | No  |  2439 | 3333 | 129 | 360 | 1 | Rural | Y |\n| LP001606 | Male   | Yes | 0  | Graduate | No  |  3497 | 1964 | 116 | 360 | 1 | Rural | Y |\n| LP001608 | Male   | Yes | 2  | Graduate | No  |  2045 | 1619 | 101 | 360 | 1 | Rural | Y |\n| LP001641 | Male   | Yes | 1  | Graduate | Yes |  2178 |    0 |  66 | 300 | 0 | Rural | N |\n| LP001644 | <!----> | Yes | 0  | Graduate | Yes |   674 | 5296 | 168 | 360 | 1 | Rural | Y |\n| LP001647 | Male   | Yes | 0  | Graduate | No  |  9328 |    0 | 188 | 180 | 1 | Rural | Y |\n| LP001664 | Male   | No  | 0  | Graduate | No  |  4191 |    0 | 120 | 360 | 1 | Rural | Y |\n| LP001666 | Male   | No  | 0  | Graduate | No  |  8333 | 3750 | 187 | 360 | 1 | Rural | Y |\n| LP001722 | Male   | Yes | 0  | Graduate | No  |   150 | 1800 | 135 | 360 | 1 | Rural | N |\n| LP001751 | Male   | Yes | 0  | Graduate | No  |  3250 |    0 | 170 | 360 | 1 | Rural | N |\n| LP001761 | Male   | No  | 0  | Graduate | Yes |  6400 |    0 | 200 | 360 | 1 | Rural | Y |\n| LP001768 | Male   | Yes | 0  | Graduate | <!----> |  3716 |    0 |  42 | 180 | 1 | Rural | Y |\n| LP001784 | Male   | Yes | 1  | Graduate | No  |  5500 | 1260 | 170 | 360 | 1 | Rural | Y |\n| ⋮ | ⋮ | ⋮ | ⋮ | ⋮ | ⋮ | ⋮ | ⋮ | ⋮ | ⋮ | ⋮ | ⋮ | ⋮ |\n| LP002494 | Male   | No  | 0  | Graduate | No  |  6000 |    0 | 140 | 360 | 1 | Rural | Y |\n| LP002524 | Male   | No  | 2  | Graduate | No  |  5532 | 4648 | 162 | 360 | 1 | Rural | Y |\n| LP002527 | Male   | Yes | 2  | Graduate | Yes | 16525 | 1014 | 150 | 360 | 1 | Rural | Y |\n| LP002545 | Male   | No  | 2  | Graduate | No  |  3547 |    0 |  80 | 360 | 0 | Rural | N |\n| LP002585 | Male   | Yes | 0  | Graduate | No  |  3597 | 2157 | 119 | 360 | 0 | Rural | N |\n| LP002602 | Male   | No  | 0  | Graduate | No  |  6283 | 4416 | 209 | 360 | 0 | Rural | N |\n| LP002603 | Female | No  | 0  | Graduate | No  |   645 | 3683 | 113 | 480 | 1 | Rural | Y |\n| LP002622 | Male   | Yes | 2  | Graduate | No  |  3510 | 4416 | 243 | 360 | 1 | Rural | Y |\n| LP002652 | Male   | No  | 0  | Graduate | No  |  5815 | 3666 | 311 | 360 | 1 | Rural | N |\n| LP002659 | Male   | Yes | 3+ | Graduate | No  |  3466 | 3428 | 150 | 360 | 1 | Rural | Y |\n| LP002692 | Male   | Yes | 3+ | Graduate | Yes |  5677 | 1424 | 100 | 360 | 1 | Rural | Y |\n| LP002693 | Male   | Yes | 2  | Graduate | Yes |  7948 | 7166 | 480 | 360 | 1 | Rural | Y |\n| LP002699 | Male   | Yes | 2  | Graduate | Yes | 17500 |    0 | 400 | 360 | 1 | Rural | Y |\n| LP002723 | Male   | No  | 2  | Graduate | No  |  3588 |    0 | 110 | 360 | 0 | Rural | N |\n| LP002740 | Male   | Yes | 3+ | Graduate | No  |  6417 |    0 | 157 | 180 | 1 | Rural | Y |\n| LP002767 | Male   | Yes | 0  | Graduate | No  |  2768 | 1950 | 155 | 360 | 1 | Rural | Y |\n| LP002772 | Male   | No  | 0  | Graduate | No  |  2526 | 1783 | 145 | 360 | 1 | Rural | Y |\n| LP002777 | Male   | Yes | 0  | Graduate | No  |  2785 | 2016 | 110 | 360 | 1 | Rural | Y |\n| LP002789 | Male   | Yes | 0  | Graduate | No  |  3593 | 4266 | 132 | 180 | 0 | Rural | N |\n| LP002820 | Male   | Yes | 0  | Graduate | No  |  5923 | 2054 | 211 | 360 | 1 | Rural | Y |\n| LP002837 | Male   | Yes | 3+ | Graduate | No  |  3400 | 2500 | 123 | 360 | 0 | Rural | N |\n| LP002877 | Male   | Yes | 1  | Graduate | No  |  1782 | 2232 | 107 | 360 | 1 | Rural | Y |\n| LP002911 | Male   | Yes | 1  | Graduate | No  |  2787 | 1917 | 146 | 360 | 0 | Rural | N |\n| LP002912 | Male   | Yes | 1  | Graduate | No  |  4283 | 3000 | 172 |  84 | 1 | Rural | N |\n| LP002936 | Male   | Yes | 0  | Graduate | No  |  3859 | 3300 | 142 | 180 | 1 | Rural | Y |\n| LP002945 | Male   | Yes | 0  | Graduate | Yes |  9963 |    0 | 180 | 360 | 1 | Rural | Y |\n| LP002958 | Male   | No  | 0  | Graduate | No  |  3676 | 4301 | 172 | 360 | 1 | Rural | Y |\n| LP002974 | Male   | Yes | 0  | Graduate | No  |  3232 | 1950 | 108 | 360 | 1 | Rural | Y |\n| LP002978 | Female | No  | 0  | Graduate | No  |  2900 |    0 |  71 | 360 | 1 | Rural | Y |\n| LP002979 | Male   | Yes | 3+ | Graduate | No  |  4106 |    0 |  40 | 180 | 1 | Rural | Y |\n\n",
            "text/latex": "A data.frame: 115 × 13\n\\begin{tabular}{lllllllllllll}\n Loan\\_ID & Gender & Married & Dependents & Education & Self\\_Employed & ApplicantIncome & CoapplicantIncome & LoanAmount & Loan\\_Amount\\_Term & Credit\\_History & Property\\_Area & Loan\\_Status\\\\\n <chr> & <chr> & <chr> & <chr> & <chr> & <chr> & <int> & <dbl> & <int> & <int> & <int> & <chr> & <chr>\\\\\n\\hline\n\t LP001003 & Male   & Yes & 1  & Graduate & No  &  4583 & 1508 & 128 & 360 & 1 & Rural & N\\\\\n\t LP001029 & Male   & No  & 0  & Graduate & No  &  1853 & 2840 & 114 & 360 & 1 & Rural & N\\\\\n\t LP001097 & Male   & No  & 1  & Graduate & Yes &  4692 &    0 & 106 & 360 & 1 & Rural & N\\\\\n\t LP001100 & Male   & No  & 3+ & Graduate & No  & 12500 & 3000 & 320 & 360 & 1 & Rural & N\\\\\n\t LP001197 & Male   & Yes & 0  & Graduate & No  &  3366 & 2200 & 135 & 360 & 1 & Rural & N\\\\\n\t LP001401 & Male   & Yes & 1  & Graduate & No  & 14583 &    0 & 185 & 180 & 1 & Rural & Y\\\\\n\t LP001421 & Male   & Yes & 0  & Graduate & No  &  5568 & 2142 & 175 & 360 & 1 & Rural & N\\\\\n\t LP001426 & Male   & Yes &    & Graduate & No  &  5667 & 2667 & 180 & 360 & 1 & Rural & Y\\\\\n\t LP001448 &        & Yes & 3+ & Graduate & No  & 23803 &    0 & 370 & 360 & 1 & Rural & Y\\\\\n\t LP001489 & Female & Yes & 0  & Graduate & No  &  4583 &    0 &  84 & 360 & 1 & Rural & N\\\\\n\t LP001497 & Male   & Yes & 2  & Graduate & No  &  5042 & 2083 & 185 & 360 & 1 & Rural & N\\\\\n\t LP001519 & Female & No  & 0  & Graduate & No  & 10000 & 1666 & 225 & 360 & 1 & Rural & N\\\\\n\t LP001528 & Male   & No  & 0  & Graduate & No  &  6277 &    0 & 118 & 360 & 0 & Rural & N\\\\\n\t LP001529 & Male   & Yes & 0  & Graduate & Yes &  2577 & 3750 & 152 & 360 & 1 & Rural & Y\\\\\n\t LP001546 & Male   & No  & 0  & Graduate &     &  2980 & 2083 & 120 & 360 & 1 & Rural & Y\\\\\n\t LP001570 & Male   & Yes & 2  & Graduate & No  &  4167 & 1447 & 158 & 360 & 1 & Rural & Y\\\\\n\t LP001577 & Female & Yes & 0  & Graduate & No  &  4583 &    0 & 112 & 360 & 1 & Rural & N\\\\\n\t LP001578 & Male   & Yes & 0  & Graduate & No  &  2439 & 3333 & 129 & 360 & 1 & Rural & Y\\\\\n\t LP001606 & Male   & Yes & 0  & Graduate & No  &  3497 & 1964 & 116 & 360 & 1 & Rural & Y\\\\\n\t LP001608 & Male   & Yes & 2  & Graduate & No  &  2045 & 1619 & 101 & 360 & 1 & Rural & Y\\\\\n\t LP001641 & Male   & Yes & 1  & Graduate & Yes &  2178 &    0 &  66 & 300 & 0 & Rural & N\\\\\n\t LP001644 &        & Yes & 0  & Graduate & Yes &   674 & 5296 & 168 & 360 & 1 & Rural & Y\\\\\n\t LP001647 & Male   & Yes & 0  & Graduate & No  &  9328 &    0 & 188 & 180 & 1 & Rural & Y\\\\\n\t LP001664 & Male   & No  & 0  & Graduate & No  &  4191 &    0 & 120 & 360 & 1 & Rural & Y\\\\\n\t LP001666 & Male   & No  & 0  & Graduate & No  &  8333 & 3750 & 187 & 360 & 1 & Rural & Y\\\\\n\t LP001722 & Male   & Yes & 0  & Graduate & No  &   150 & 1800 & 135 & 360 & 1 & Rural & N\\\\\n\t LP001751 & Male   & Yes & 0  & Graduate & No  &  3250 &    0 & 170 & 360 & 1 & Rural & N\\\\\n\t LP001761 & Male   & No  & 0  & Graduate & Yes &  6400 &    0 & 200 & 360 & 1 & Rural & Y\\\\\n\t LP001768 & Male   & Yes & 0  & Graduate &     &  3716 &    0 &  42 & 180 & 1 & Rural & Y\\\\\n\t LP001784 & Male   & Yes & 1  & Graduate & No  &  5500 & 1260 & 170 & 360 & 1 & Rural & Y\\\\\n\t ⋮ & ⋮ & ⋮ & ⋮ & ⋮ & ⋮ & ⋮ & ⋮ & ⋮ & ⋮ & ⋮ & ⋮ & ⋮\\\\\n\t LP002494 & Male   & No  & 0  & Graduate & No  &  6000 &    0 & 140 & 360 & 1 & Rural & Y\\\\\n\t LP002524 & Male   & No  & 2  & Graduate & No  &  5532 & 4648 & 162 & 360 & 1 & Rural & Y\\\\\n\t LP002527 & Male   & Yes & 2  & Graduate & Yes & 16525 & 1014 & 150 & 360 & 1 & Rural & Y\\\\\n\t LP002545 & Male   & No  & 2  & Graduate & No  &  3547 &    0 &  80 & 360 & 0 & Rural & N\\\\\n\t LP002585 & Male   & Yes & 0  & Graduate & No  &  3597 & 2157 & 119 & 360 & 0 & Rural & N\\\\\n\t LP002602 & Male   & No  & 0  & Graduate & No  &  6283 & 4416 & 209 & 360 & 0 & Rural & N\\\\\n\t LP002603 & Female & No  & 0  & Graduate & No  &   645 & 3683 & 113 & 480 & 1 & Rural & Y\\\\\n\t LP002622 & Male   & Yes & 2  & Graduate & No  &  3510 & 4416 & 243 & 360 & 1 & Rural & Y\\\\\n\t LP002652 & Male   & No  & 0  & Graduate & No  &  5815 & 3666 & 311 & 360 & 1 & Rural & N\\\\\n\t LP002659 & Male   & Yes & 3+ & Graduate & No  &  3466 & 3428 & 150 & 360 & 1 & Rural & Y\\\\\n\t LP002692 & Male   & Yes & 3+ & Graduate & Yes &  5677 & 1424 & 100 & 360 & 1 & Rural & Y\\\\\n\t LP002693 & Male   & Yes & 2  & Graduate & Yes &  7948 & 7166 & 480 & 360 & 1 & Rural & Y\\\\\n\t LP002699 & Male   & Yes & 2  & Graduate & Yes & 17500 &    0 & 400 & 360 & 1 & Rural & Y\\\\\n\t LP002723 & Male   & No  & 2  & Graduate & No  &  3588 &    0 & 110 & 360 & 0 & Rural & N\\\\\n\t LP002740 & Male   & Yes & 3+ & Graduate & No  &  6417 &    0 & 157 & 180 & 1 & Rural & Y\\\\\n\t LP002767 & Male   & Yes & 0  & Graduate & No  &  2768 & 1950 & 155 & 360 & 1 & Rural & Y\\\\\n\t LP002772 & Male   & No  & 0  & Graduate & No  &  2526 & 1783 & 145 & 360 & 1 & Rural & Y\\\\\n\t LP002777 & Male   & Yes & 0  & Graduate & No  &  2785 & 2016 & 110 & 360 & 1 & Rural & Y\\\\\n\t LP002789 & Male   & Yes & 0  & Graduate & No  &  3593 & 4266 & 132 & 180 & 0 & Rural & N\\\\\n\t LP002820 & Male   & Yes & 0  & Graduate & No  &  5923 & 2054 & 211 & 360 & 1 & Rural & Y\\\\\n\t LP002837 & Male   & Yes & 3+ & Graduate & No  &  3400 & 2500 & 123 & 360 & 0 & Rural & N\\\\\n\t LP002877 & Male   & Yes & 1  & Graduate & No  &  1782 & 2232 & 107 & 360 & 1 & Rural & Y\\\\\n\t LP002911 & Male   & Yes & 1  & Graduate & No  &  2787 & 1917 & 146 & 360 & 0 & Rural & N\\\\\n\t LP002912 & Male   & Yes & 1  & Graduate & No  &  4283 & 3000 & 172 &  84 & 1 & Rural & N\\\\\n\t LP002936 & Male   & Yes & 0  & Graduate & No  &  3859 & 3300 & 142 & 180 & 1 & Rural & Y\\\\\n\t LP002945 & Male   & Yes & 0  & Graduate & Yes &  9963 &    0 & 180 & 360 & 1 & Rural & Y\\\\\n\t LP002958 & Male   & No  & 0  & Graduate & No  &  3676 & 4301 & 172 & 360 & 1 & Rural & Y\\\\\n\t LP002974 & Male   & Yes & 0  & Graduate & No  &  3232 & 1950 & 108 & 360 & 1 & Rural & Y\\\\\n\t LP002978 & Female & No  & 0  & Graduate & No  &  2900 &    0 &  71 & 360 & 1 & Rural & Y\\\\\n\t LP002979 & Male   & Yes & 3+ & Graduate & No  &  4106 &    0 &  40 & 180 & 1 & Rural & Y\\\\\n\\end{tabular}\n",
            "text/plain": [
              "    Loan_ID  Gender Married Dependents Education Self_Employed ApplicantIncome\n",
              "1   LP001003 Male   Yes     1          Graduate  No             4583          \n",
              "2   LP001029 Male   No      0          Graduate  No             1853          \n",
              "3   LP001097 Male   No      1          Graduate  Yes            4692          \n",
              "4   LP001100 Male   No      3+         Graduate  No            12500          \n",
              "5   LP001197 Male   Yes     0          Graduate  No             3366          \n",
              "6   LP001401 Male   Yes     1          Graduate  No            14583          \n",
              "7   LP001421 Male   Yes     0          Graduate  No             5568          \n",
              "8   LP001426 Male   Yes                Graduate  No             5667          \n",
              "9   LP001448        Yes     3+         Graduate  No            23803          \n",
              "10  LP001489 Female Yes     0          Graduate  No             4583          \n",
              "11  LP001497 Male   Yes     2          Graduate  No             5042          \n",
              "12  LP001519 Female No      0          Graduate  No            10000          \n",
              "13  LP001528 Male   No      0          Graduate  No             6277          \n",
              "14  LP001529 Male   Yes     0          Graduate  Yes            2577          \n",
              "15  LP001546 Male   No      0          Graduate                 2980          \n",
              "16  LP001570 Male   Yes     2          Graduate  No             4167          \n",
              "17  LP001577 Female Yes     0          Graduate  No             4583          \n",
              "18  LP001578 Male   Yes     0          Graduate  No             2439          \n",
              "19  LP001606 Male   Yes     0          Graduate  No             3497          \n",
              "20  LP001608 Male   Yes     2          Graduate  No             2045          \n",
              "21  LP001641 Male   Yes     1          Graduate  Yes            2178          \n",
              "22  LP001644        Yes     0          Graduate  Yes             674          \n",
              "23  LP001647 Male   Yes     0          Graduate  No             9328          \n",
              "24  LP001664 Male   No      0          Graduate  No             4191          \n",
              "25  LP001666 Male   No      0          Graduate  No             8333          \n",
              "26  LP001722 Male   Yes     0          Graduate  No              150          \n",
              "27  LP001751 Male   Yes     0          Graduate  No             3250          \n",
              "28  LP001761 Male   No      0          Graduate  Yes            6400          \n",
              "29  LP001768 Male   Yes     0          Graduate                 3716          \n",
              "30  LP001784 Male   Yes     1          Graduate  No             5500          \n",
              "⋮   ⋮        ⋮      ⋮       ⋮          ⋮         ⋮             ⋮              \n",
              "86  LP002494 Male   No      0          Graduate  No             6000          \n",
              "87  LP002524 Male   No      2          Graduate  No             5532          \n",
              "88  LP002527 Male   Yes     2          Graduate  Yes           16525          \n",
              "89  LP002545 Male   No      2          Graduate  No             3547          \n",
              "90  LP002585 Male   Yes     0          Graduate  No             3597          \n",
              "91  LP002602 Male   No      0          Graduate  No             6283          \n",
              "92  LP002603 Female No      0          Graduate  No              645          \n",
              "93  LP002622 Male   Yes     2          Graduate  No             3510          \n",
              "94  LP002652 Male   No      0          Graduate  No             5815          \n",
              "95  LP002659 Male   Yes     3+         Graduate  No             3466          \n",
              "96  LP002692 Male   Yes     3+         Graduate  Yes            5677          \n",
              "97  LP002693 Male   Yes     2          Graduate  Yes            7948          \n",
              "98  LP002699 Male   Yes     2          Graduate  Yes           17500          \n",
              "99  LP002723 Male   No      2          Graduate  No             3588          \n",
              "100 LP002740 Male   Yes     3+         Graduate  No             6417          \n",
              "101 LP002767 Male   Yes     0          Graduate  No             2768          \n",
              "102 LP002772 Male   No      0          Graduate  No             2526          \n",
              "103 LP002777 Male   Yes     0          Graduate  No             2785          \n",
              "104 LP002789 Male   Yes     0          Graduate  No             3593          \n",
              "105 LP002820 Male   Yes     0          Graduate  No             5923          \n",
              "106 LP002837 Male   Yes     3+         Graduate  No             3400          \n",
              "107 LP002877 Male   Yes     1          Graduate  No             1782          \n",
              "108 LP002911 Male   Yes     1          Graduate  No             2787          \n",
              "109 LP002912 Male   Yes     1          Graduate  No             4283          \n",
              "110 LP002936 Male   Yes     0          Graduate  No             3859          \n",
              "111 LP002945 Male   Yes     0          Graduate  Yes            9963          \n",
              "112 LP002958 Male   No      0          Graduate  No             3676          \n",
              "113 LP002974 Male   Yes     0          Graduate  No             3232          \n",
              "114 LP002978 Female No      0          Graduate  No             2900          \n",
              "115 LP002979 Male   Yes     3+         Graduate  No             4106          \n",
              "    CoapplicantIncome LoanAmount Loan_Amount_Term Credit_History Property_Area\n",
              "1   1508              128        360              1              Rural        \n",
              "2   2840              114        360              1              Rural        \n",
              "3      0              106        360              1              Rural        \n",
              "4   3000              320        360              1              Rural        \n",
              "5   2200              135        360              1              Rural        \n",
              "6      0              185        180              1              Rural        \n",
              "7   2142              175        360              1              Rural        \n",
              "8   2667              180        360              1              Rural        \n",
              "9      0              370        360              1              Rural        \n",
              "10     0               84        360              1              Rural        \n",
              "11  2083              185        360              1              Rural        \n",
              "12  1666              225        360              1              Rural        \n",
              "13     0              118        360              0              Rural        \n",
              "14  3750              152        360              1              Rural        \n",
              "15  2083              120        360              1              Rural        \n",
              "16  1447              158        360              1              Rural        \n",
              "17     0              112        360              1              Rural        \n",
              "18  3333              129        360              1              Rural        \n",
              "19  1964              116        360              1              Rural        \n",
              "20  1619              101        360              1              Rural        \n",
              "21     0               66        300              0              Rural        \n",
              "22  5296              168        360              1              Rural        \n",
              "23     0              188        180              1              Rural        \n",
              "24     0              120        360              1              Rural        \n",
              "25  3750              187        360              1              Rural        \n",
              "26  1800              135        360              1              Rural        \n",
              "27     0              170        360              1              Rural        \n",
              "28     0              200        360              1              Rural        \n",
              "29     0               42        180              1              Rural        \n",
              "30  1260              170        360              1              Rural        \n",
              "⋮   ⋮                 ⋮          ⋮                ⋮              ⋮            \n",
              "86     0              140        360              1              Rural        \n",
              "87  4648              162        360              1              Rural        \n",
              "88  1014              150        360              1              Rural        \n",
              "89     0               80        360              0              Rural        \n",
              "90  2157              119        360              0              Rural        \n",
              "91  4416              209        360              0              Rural        \n",
              "92  3683              113        480              1              Rural        \n",
              "93  4416              243        360              1              Rural        \n",
              "94  3666              311        360              1              Rural        \n",
              "95  3428              150        360              1              Rural        \n",
              "96  1424              100        360              1              Rural        \n",
              "97  7166              480        360              1              Rural        \n",
              "98     0              400        360              1              Rural        \n",
              "99     0              110        360              0              Rural        \n",
              "100    0              157        180              1              Rural        \n",
              "101 1950              155        360              1              Rural        \n",
              "102 1783              145        360              1              Rural        \n",
              "103 2016              110        360              1              Rural        \n",
              "104 4266              132        180              0              Rural        \n",
              "105 2054              211        360              1              Rural        \n",
              "106 2500              123        360              0              Rural        \n",
              "107 2232              107        360              1              Rural        \n",
              "108 1917              146        360              0              Rural        \n",
              "109 3000              172         84              1              Rural        \n",
              "110 3300              142        180              1              Rural        \n",
              "111    0              180        360              1              Rural        \n",
              "112 4301              172        360              1              Rural        \n",
              "113 1950              108        360              1              Rural        \n",
              "114    0               71        360              1              Rural        \n",
              "115    0               40        180              1              Rural        \n",
              "    Loan_Status\n",
              "1   N          \n",
              "2   N          \n",
              "3   N          \n",
              "4   N          \n",
              "5   N          \n",
              "6   Y          \n",
              "7   N          \n",
              "8   Y          \n",
              "9   Y          \n",
              "10  N          \n",
              "11  N          \n",
              "12  N          \n",
              "13  N          \n",
              "14  Y          \n",
              "15  Y          \n",
              "16  Y          \n",
              "17  N          \n",
              "18  Y          \n",
              "19  Y          \n",
              "20  Y          \n",
              "21  N          \n",
              "22  Y          \n",
              "23  Y          \n",
              "24  Y          \n",
              "25  Y          \n",
              "26  N          \n",
              "27  N          \n",
              "28  Y          \n",
              "29  Y          \n",
              "30  Y          \n",
              "⋮   ⋮          \n",
              "86  Y          \n",
              "87  Y          \n",
              "88  Y          \n",
              "89  N          \n",
              "90  N          \n",
              "91  N          \n",
              "92  Y          \n",
              "93  Y          \n",
              "94  N          \n",
              "95  Y          \n",
              "96  Y          \n",
              "97  Y          \n",
              "98  Y          \n",
              "99  N          \n",
              "100 Y          \n",
              "101 Y          \n",
              "102 Y          \n",
              "103 Y          \n",
              "104 N          \n",
              "105 Y          \n",
              "106 N          \n",
              "107 Y          \n",
              "108 N          \n",
              "109 N          \n",
              "110 Y          \n",
              "111 Y          \n",
              "112 Y          \n",
              "113 Y          \n",
              "114 Y          \n",
              "115 Y          "
            ]
          },
          "metadata": {}
        }
      ]
    },
    {
      "cell_type": "code",
      "source": [
        "nrow(data %>% filter(Education=='Graduate' & Property_Area=='Rural'))"
      ],
      "metadata": {
        "colab": {
          "base_uri": "https://localhost:8080/",
          "height": 34
        },
        "id": "ArCeUmqAF7KA",
        "outputId": "67f4fbf8-e4f2-48e6-adba-192c13177a7f"
      },
      "execution_count": null,
      "outputs": [
        {
          "output_type": "display_data",
          "data": {
            "text/html": [
              "115"
            ],
            "text/markdown": "115",
            "text/latex": "115",
            "text/plain": [
              "[1] 115"
            ]
          },
          "metadata": {}
        }
      ]
    },
    {
      "cell_type": "code",
      "source": [
        "#filter method is used to select male applicants who did not graduate\n",
        "\n",
        "data %>% filter(Gender=='Male' & Education==\"Not Graduate\")\n"
      ],
      "metadata": {
        "colab": {
          "base_uri": "https://localhost:8080/",
          "height": 1000
        },
        "id": "NtZZl6Tc1S8Z",
        "outputId": "c91cf774-4791-408e-de79-28f4531de79a"
      },
      "execution_count": null,
      "outputs": [
        {
          "output_type": "display_data",
          "data": {
            "text/html": [
              "<table class=\"dataframe\">\n",
              "<caption>A data.frame: 92 × 13</caption>\n",
              "<thead>\n",
              "\t<tr><th scope=col>Loan_ID</th><th scope=col>Gender</th><th scope=col>Married</th><th scope=col>Dependents</th><th scope=col>Education</th><th scope=col>Self_Employed</th><th scope=col>ApplicantIncome</th><th scope=col>CoapplicantIncome</th><th scope=col>LoanAmount</th><th scope=col>Loan_Amount_Term</th><th scope=col>Credit_History</th><th scope=col>Property_Area</th><th scope=col>Loan_Status</th></tr>\n",
              "\t<tr><th scope=col>&lt;chr&gt;</th><th scope=col>&lt;chr&gt;</th><th scope=col>&lt;chr&gt;</th><th scope=col>&lt;chr&gt;</th><th scope=col>&lt;chr&gt;</th><th scope=col>&lt;chr&gt;</th><th scope=col>&lt;int&gt;</th><th scope=col>&lt;dbl&gt;</th><th scope=col>&lt;int&gt;</th><th scope=col>&lt;int&gt;</th><th scope=col>&lt;int&gt;</th><th scope=col>&lt;chr&gt;</th><th scope=col>&lt;chr&gt;</th></tr>\n",
              "</thead>\n",
              "<tbody>\n",
              "\t<tr><td>LP001006</td><td>Male</td><td>Yes</td><td>0 </td><td>Not Graduate</td><td>No </td><td>2583</td><td>2358</td><td>120</td><td>360</td><td>1</td><td>Urban    </td><td>Y</td></tr>\n",
              "\t<tr><td>LP001013</td><td>Male</td><td>Yes</td><td>0 </td><td>Not Graduate</td><td>No </td><td>2333</td><td>1516</td><td> 95</td><td>360</td><td>1</td><td>Urban    </td><td>Y</td></tr>\n",
              "\t<tr><td>LP001038</td><td>Male</td><td>Yes</td><td>0 </td><td>Not Graduate</td><td>No </td><td>4887</td><td>   0</td><td>133</td><td>360</td><td>1</td><td>Rural    </td><td>N</td></tr>\n",
              "\t<tr><td>LP001043</td><td>Male</td><td>Yes</td><td>0 </td><td>Not Graduate</td><td>No </td><td>7660</td><td>   0</td><td>104</td><td>360</td><td>0</td><td>Urban    </td><td>N</td></tr>\n",
              "\t<tr><td>LP001047</td><td>Male</td><td>Yes</td><td>0 </td><td>Not Graduate</td><td>No </td><td>2600</td><td>1911</td><td>116</td><td>360</td><td>0</td><td>Semiurban</td><td>N</td></tr>\n",
              "\t<tr><td>LP001073</td><td>Male</td><td>Yes</td><td>2 </td><td>Not Graduate</td><td>No </td><td>4226</td><td>1040</td><td>110</td><td>360</td><td>1</td><td>Urban    </td><td>Y</td></tr>\n",
              "\t<tr><td>LP001086</td><td>Male</td><td>No </td><td>0 </td><td>Not Graduate</td><td>No </td><td>1442</td><td>   0</td><td> 35</td><td>360</td><td>1</td><td>Urban    </td><td>N</td></tr>\n",
              "\t<tr><td>LP001116</td><td>Male</td><td>No </td><td>0 </td><td>Not Graduate</td><td>No </td><td>3748</td><td>1668</td><td>110</td><td>360</td><td>1</td><td>Semiurban</td><td>Y</td></tr>\n",
              "\t<tr><td>LP001199</td><td>Male</td><td>Yes</td><td>2 </td><td>Not Graduate</td><td>No </td><td>3357</td><td>2859</td><td>144</td><td>360</td><td>1</td><td>Urban    </td><td>Y</td></tr>\n",
              "\t<tr><td>LP001207</td><td>Male</td><td>Yes</td><td>0 </td><td>Not Graduate</td><td>Yes</td><td>2609</td><td>3449</td><td>165</td><td>180</td><td>0</td><td>Rural    </td><td>N</td></tr>\n",
              "\t<tr><td>LP001228</td><td>Male</td><td>No </td><td>0 </td><td>Not Graduate</td><td>No </td><td>3200</td><td>2254</td><td>126</td><td>180</td><td>0</td><td>Urban    </td><td>N</td></tr>\n",
              "\t<tr><td>LP001238</td><td>Male</td><td>Yes</td><td>3+</td><td>Not Graduate</td><td>Yes</td><td>7100</td><td>   0</td><td>125</td><td> 60</td><td>1</td><td>Urban    </td><td>Y</td></tr>\n",
              "\t<tr><td>LP001245</td><td>Male</td><td>Yes</td><td>2 </td><td>Not Graduate</td><td>Yes</td><td>1875</td><td>1875</td><td> 97</td><td>360</td><td>1</td><td>Semiurban</td><td>Y</td></tr>\n",
              "\t<tr><td>LP001319</td><td>Male</td><td>Yes</td><td>2 </td><td>Not Graduate</td><td>No </td><td>3273</td><td>1820</td><td> 81</td><td>360</td><td>1</td><td>Urban    </td><td>Y</td></tr>\n",
              "\t<tr><td>LP001325</td><td>Male</td><td>No </td><td>0 </td><td>Not Graduate</td><td>No </td><td>3620</td><td>   0</td><td> 25</td><td>120</td><td>1</td><td>Semiurban</td><td>Y</td></tr>\n",
              "\t<tr><td>LP001334</td><td>Male</td><td>Yes</td><td>0 </td><td>Not Graduate</td><td>No </td><td>4188</td><td>   0</td><td>115</td><td>180</td><td>1</td><td>Semiurban</td><td>Y</td></tr>\n",
              "\t<tr><td>LP001345</td><td>Male</td><td>Yes</td><td>2 </td><td>Not Graduate</td><td>No </td><td>4288</td><td>3263</td><td>133</td><td>180</td><td>1</td><td>Urban    </td><td>Y</td></tr>\n",
              "\t<tr><td>LP001370</td><td>Male</td><td>No </td><td>0 </td><td>Not Graduate</td><td>   </td><td>7333</td><td>   0</td><td>120</td><td>360</td><td>1</td><td>Rural    </td><td>N</td></tr>\n",
              "\t<tr><td>LP001384</td><td>Male</td><td>Yes</td><td>3+</td><td>Not Graduate</td><td>No </td><td>2071</td><td> 754</td><td> 94</td><td>480</td><td>1</td><td>Semiurban</td><td>Y</td></tr>\n",
              "\t<tr><td>LP001439</td><td>Male</td><td>Yes</td><td>0 </td><td>Not Graduate</td><td>No </td><td>4300</td><td>2014</td><td>194</td><td>360</td><td>1</td><td>Rural    </td><td>Y</td></tr>\n",
              "\t<tr><td>LP001493</td><td>Male</td><td>Yes</td><td>2 </td><td>Not Graduate</td><td>No </td><td>4200</td><td>1430</td><td>129</td><td>360</td><td>1</td><td>Rural    </td><td>N</td></tr>\n",
              "\t<tr><td>LP001532</td><td>Male</td><td>Yes</td><td>2 </td><td>Not Graduate</td><td>No </td><td>2281</td><td>   0</td><td>113</td><td>360</td><td>1</td><td>Rural    </td><td>N</td></tr>\n",
              "\t<tr><td>LP001560</td><td>Male</td><td>Yes</td><td>0 </td><td>Not Graduate</td><td>No </td><td>1863</td><td>1041</td><td> 98</td><td>360</td><td>1</td><td>Semiurban</td><td>Y</td></tr>\n",
              "\t<tr><td>LP001581</td><td>Male</td><td>Yes</td><td>0 </td><td>Not Graduate</td><td>   </td><td>1820</td><td>1769</td><td> 95</td><td>360</td><td>1</td><td>Rural    </td><td>Y</td></tr>\n",
              "\t<tr><td>LP001586</td><td>Male</td><td>Yes</td><td>3+</td><td>Not Graduate</td><td>No </td><td>3522</td><td>   0</td><td> 81</td><td>180</td><td>1</td><td>Rural    </td><td>N</td></tr>\n",
              "\t<tr><td>LP001603</td><td>Male</td><td>Yes</td><td>0 </td><td>Not Graduate</td><td>Yes</td><td>4344</td><td> 736</td><td> 87</td><td>360</td><td>1</td><td>Semiurban</td><td>N</td></tr>\n",
              "\t<tr><td>LP001630</td><td>Male</td><td>No </td><td>0 </td><td>Not Graduate</td><td>No </td><td>2333</td><td>1451</td><td>102</td><td>480</td><td>0</td><td>Urban    </td><td>N</td></tr>\n",
              "\t<tr><td>LP001653</td><td>Male</td><td>No </td><td>0 </td><td>Not Graduate</td><td>No </td><td>4885</td><td>   0</td><td> 48</td><td>360</td><td>1</td><td>Rural    </td><td>Y</td></tr>\n",
              "\t<tr><td>LP001657</td><td>Male</td><td>Yes</td><td>0 </td><td>Not Graduate</td><td>No </td><td>6033</td><td>   0</td><td>160</td><td>360</td><td>1</td><td>Urban    </td><td>N</td></tr>\n",
              "\t<tr><td>LP001674</td><td>Male</td><td>Yes</td><td>1 </td><td>Not Graduate</td><td>No </td><td>2600</td><td>2500</td><td> 90</td><td>360</td><td>1</td><td>Semiurban</td><td>Y</td></tr>\n",
              "\t<tr><td>⋮</td><td>⋮</td><td>⋮</td><td>⋮</td><td>⋮</td><td>⋮</td><td>⋮</td><td>⋮</td><td>⋮</td><td>⋮</td><td>⋮</td><td>⋮</td><td>⋮</td></tr>\n",
              "\t<tr><td>LP002332</td><td>Male</td><td>Yes</td><td>0 </td><td>Not Graduate</td><td>No </td><td>2253</td><td>2033</td><td>110</td><td>360</td><td>1</td><td>Rural    </td><td>Y</td></tr>\n",
              "\t<tr><td>LP002370</td><td>Male</td><td>No </td><td>0 </td><td>Not Graduate</td><td>No </td><td>2717</td><td>   0</td><td> 60</td><td>180</td><td>1</td><td>Urban    </td><td>Y</td></tr>\n",
              "\t<tr><td>LP002418</td><td>Male</td><td>No </td><td>3+</td><td>Not Graduate</td><td>No </td><td>4707</td><td>1993</td><td>148</td><td>360</td><td>1</td><td>Semiurban</td><td>Y</td></tr>\n",
              "\t<tr><td>LP002434</td><td>Male</td><td>Yes</td><td>2 </td><td>Not Graduate</td><td>No </td><td>4652</td><td>   0</td><td>110</td><td>360</td><td>1</td><td>Rural    </td><td>Y</td></tr>\n",
              "\t<tr><td>LP002446</td><td>Male</td><td>Yes</td><td>2 </td><td>Not Graduate</td><td>No </td><td>2309</td><td>1255</td><td>125</td><td>360</td><td>0</td><td>Rural    </td><td>N</td></tr>\n",
              "\t<tr><td>LP002500</td><td>Male</td><td>Yes</td><td>3+</td><td>Not Graduate</td><td>No </td><td>2947</td><td>1664</td><td> 70</td><td>180</td><td>0</td><td>Urban    </td><td>N</td></tr>\n",
              "\t<tr><td>LP002517</td><td>Male</td><td>Yes</td><td>1 </td><td>Not Graduate</td><td>No </td><td>2653</td><td>1500</td><td>113</td><td>180</td><td>0</td><td>Rural    </td><td>N</td></tr>\n",
              "\t<tr><td>LP002536</td><td>Male</td><td>Yes</td><td>3+</td><td>Not Graduate</td><td>No </td><td>3095</td><td>   0</td><td>113</td><td>360</td><td>1</td><td>Rural    </td><td>Y</td></tr>\n",
              "\t<tr><td>LP002544</td><td>Male</td><td>Yes</td><td>1 </td><td>Not Graduate</td><td>No </td><td>1958</td><td>2436</td><td>131</td><td>360</td><td>1</td><td>Rural    </td><td>Y</td></tr>\n",
              "\t<tr><td>LP002571</td><td>Male</td><td>No </td><td>0 </td><td>Not Graduate</td><td>No </td><td>3691</td><td>   0</td><td>110</td><td>360</td><td>1</td><td>Rural    </td><td>Y</td></tr>\n",
              "\t<tr><td>LP002587</td><td>Male</td><td>Yes</td><td>0 </td><td>Not Graduate</td><td>No </td><td>2600</td><td>1700</td><td>107</td><td>360</td><td>1</td><td>Rural    </td><td>Y</td></tr>\n",
              "\t<tr><td>LP002619</td><td>Male</td><td>Yes</td><td>0 </td><td>Not Graduate</td><td>No </td><td>3814</td><td>1483</td><td>124</td><td>300</td><td>1</td><td>Semiurban</td><td>Y</td></tr>\n",
              "\t<tr><td>LP002637</td><td>Male</td><td>No </td><td>0 </td><td>Not Graduate</td><td>No </td><td>3598</td><td>1287</td><td>100</td><td>360</td><td>1</td><td>Rural    </td><td>N</td></tr>\n",
              "\t<tr><td>LP002682</td><td>Male</td><td>Yes</td><td>  </td><td>Not Graduate</td><td>No </td><td>3074</td><td>1800</td><td>123</td><td>360</td><td>0</td><td>Semiurban</td><td>N</td></tr>\n",
              "\t<tr><td>LP002689</td><td>Male</td><td>Yes</td><td>2 </td><td>Not Graduate</td><td>No </td><td>2192</td><td>1742</td><td> 45</td><td>360</td><td>1</td><td>Semiurban</td><td>Y</td></tr>\n",
              "\t<tr><td>LP002706</td><td>Male</td><td>Yes</td><td>1 </td><td>Not Graduate</td><td>No </td><td>5285</td><td>1430</td><td>161</td><td>360</td><td>0</td><td>Semiurban</td><td>Y</td></tr>\n",
              "\t<tr><td>LP002714</td><td>Male</td><td>No </td><td>1 </td><td>Not Graduate</td><td>No </td><td>2679</td><td>1302</td><td> 94</td><td>360</td><td>1</td><td>Semiurban</td><td>Y</td></tr>\n",
              "\t<tr><td>LP002716</td><td>Male</td><td>No </td><td>0 </td><td>Not Graduate</td><td>No </td><td>6783</td><td>   0</td><td>130</td><td>360</td><td>1</td><td>Semiurban</td><td>Y</td></tr>\n",
              "\t<tr><td>LP002732</td><td>Male</td><td>No </td><td>0 </td><td>Not Graduate</td><td>   </td><td>2550</td><td>2042</td><td>126</td><td>360</td><td>1</td><td>Rural    </td><td>Y</td></tr>\n",
              "\t<tr><td>LP002739</td><td>Male</td><td>Yes</td><td>0 </td><td>Not Graduate</td><td>No </td><td>2917</td><td> 536</td><td> 66</td><td>360</td><td>1</td><td>Rural    </td><td>N</td></tr>\n",
              "\t<tr><td>LP002755</td><td>Male</td><td>Yes</td><td>1 </td><td>Not Graduate</td><td>No </td><td>2239</td><td>2524</td><td>128</td><td>360</td><td>1</td><td>Urban    </td><td>Y</td></tr>\n",
              "\t<tr><td>LP002768</td><td>Male</td><td>No </td><td>0 </td><td>Not Graduate</td><td>No </td><td>3358</td><td>   0</td><td> 80</td><td> 36</td><td>1</td><td>Semiurban</td><td>N</td></tr>\n",
              "\t<tr><td>LP002788</td><td>Male</td><td>Yes</td><td>0 </td><td>Not Graduate</td><td>No </td><td>2454</td><td>2333</td><td>181</td><td>360</td><td>0</td><td>Urban    </td><td>N</td></tr>\n",
              "\t<tr><td>LP002807</td><td>Male</td><td>Yes</td><td>2 </td><td>Not Graduate</td><td>No </td><td>3675</td><td> 242</td><td>108</td><td>360</td><td>1</td><td>Semiurban</td><td>Y</td></tr>\n",
              "\t<tr><td>LP002821</td><td>Male</td><td>No </td><td>0 </td><td>Not Graduate</td><td>Yes</td><td>5800</td><td>   0</td><td>132</td><td>360</td><td>1</td><td>Semiurban</td><td>Y</td></tr>\n",
              "\t<tr><td>LP002862</td><td>Male</td><td>Yes</td><td>2 </td><td>Not Graduate</td><td>No </td><td>6125</td><td>1625</td><td>187</td><td>480</td><td>1</td><td>Semiurban</td><td>N</td></tr>\n",
              "\t<tr><td>LP002940</td><td>Male</td><td>No </td><td>0 </td><td>Not Graduate</td><td>No </td><td>3833</td><td>   0</td><td>110</td><td>360</td><td>1</td><td>Rural    </td><td>Y</td></tr>\n",
              "\t<tr><td>LP002941</td><td>Male</td><td>Yes</td><td>2 </td><td>Not Graduate</td><td>Yes</td><td>6383</td><td>1000</td><td>187</td><td>360</td><td>1</td><td>Rural    </td><td>N</td></tr>\n",
              "\t<tr><td>LP002950</td><td>Male</td><td>Yes</td><td>0 </td><td>Not Graduate</td><td>   </td><td>2894</td><td>2792</td><td>155</td><td>360</td><td>1</td><td>Rural    </td><td>Y</td></tr>\n",
              "\t<tr><td>LP002964</td><td>Male</td><td>Yes</td><td>2 </td><td>Not Graduate</td><td>No </td><td>3987</td><td>1411</td><td>157</td><td>360</td><td>1</td><td>Rural    </td><td>Y</td></tr>\n",
              "</tbody>\n",
              "</table>\n"
            ],
            "text/markdown": "\nA data.frame: 92 × 13\n\n| Loan_ID &lt;chr&gt; | Gender &lt;chr&gt; | Married &lt;chr&gt; | Dependents &lt;chr&gt; | Education &lt;chr&gt; | Self_Employed &lt;chr&gt; | ApplicantIncome &lt;int&gt; | CoapplicantIncome &lt;dbl&gt; | LoanAmount &lt;int&gt; | Loan_Amount_Term &lt;int&gt; | Credit_History &lt;int&gt; | Property_Area &lt;chr&gt; | Loan_Status &lt;chr&gt; |\n|---|---|---|---|---|---|---|---|---|---|---|---|---|\n| LP001006 | Male | Yes | 0  | Not Graduate | No  | 2583 | 2358 | 120 | 360 | 1 | Urban     | Y |\n| LP001013 | Male | Yes | 0  | Not Graduate | No  | 2333 | 1516 |  95 | 360 | 1 | Urban     | Y |\n| LP001038 | Male | Yes | 0  | Not Graduate | No  | 4887 |    0 | 133 | 360 | 1 | Rural     | N |\n| LP001043 | Male | Yes | 0  | Not Graduate | No  | 7660 |    0 | 104 | 360 | 0 | Urban     | N |\n| LP001047 | Male | Yes | 0  | Not Graduate | No  | 2600 | 1911 | 116 | 360 | 0 | Semiurban | N |\n| LP001073 | Male | Yes | 2  | Not Graduate | No  | 4226 | 1040 | 110 | 360 | 1 | Urban     | Y |\n| LP001086 | Male | No  | 0  | Not Graduate | No  | 1442 |    0 |  35 | 360 | 1 | Urban     | N |\n| LP001116 | Male | No  | 0  | Not Graduate | No  | 3748 | 1668 | 110 | 360 | 1 | Semiurban | Y |\n| LP001199 | Male | Yes | 2  | Not Graduate | No  | 3357 | 2859 | 144 | 360 | 1 | Urban     | Y |\n| LP001207 | Male | Yes | 0  | Not Graduate | Yes | 2609 | 3449 | 165 | 180 | 0 | Rural     | N |\n| LP001228 | Male | No  | 0  | Not Graduate | No  | 3200 | 2254 | 126 | 180 | 0 | Urban     | N |\n| LP001238 | Male | Yes | 3+ | Not Graduate | Yes | 7100 |    0 | 125 |  60 | 1 | Urban     | Y |\n| LP001245 | Male | Yes | 2  | Not Graduate | Yes | 1875 | 1875 |  97 | 360 | 1 | Semiurban | Y |\n| LP001319 | Male | Yes | 2  | Not Graduate | No  | 3273 | 1820 |  81 | 360 | 1 | Urban     | Y |\n| LP001325 | Male | No  | 0  | Not Graduate | No  | 3620 |    0 |  25 | 120 | 1 | Semiurban | Y |\n| LP001334 | Male | Yes | 0  | Not Graduate | No  | 4188 |    0 | 115 | 180 | 1 | Semiurban | Y |\n| LP001345 | Male | Yes | 2  | Not Graduate | No  | 4288 | 3263 | 133 | 180 | 1 | Urban     | Y |\n| LP001370 | Male | No  | 0  | Not Graduate | <!----> | 7333 |    0 | 120 | 360 | 1 | Rural     | N |\n| LP001384 | Male | Yes | 3+ | Not Graduate | No  | 2071 |  754 |  94 | 480 | 1 | Semiurban | Y |\n| LP001439 | Male | Yes | 0  | Not Graduate | No  | 4300 | 2014 | 194 | 360 | 1 | Rural     | Y |\n| LP001493 | Male | Yes | 2  | Not Graduate | No  | 4200 | 1430 | 129 | 360 | 1 | Rural     | N |\n| LP001532 | Male | Yes | 2  | Not Graduate | No  | 2281 |    0 | 113 | 360 | 1 | Rural     | N |\n| LP001560 | Male | Yes | 0  | Not Graduate | No  | 1863 | 1041 |  98 | 360 | 1 | Semiurban | Y |\n| LP001581 | Male | Yes | 0  | Not Graduate | <!----> | 1820 | 1769 |  95 | 360 | 1 | Rural     | Y |\n| LP001586 | Male | Yes | 3+ | Not Graduate | No  | 3522 |    0 |  81 | 180 | 1 | Rural     | N |\n| LP001603 | Male | Yes | 0  | Not Graduate | Yes | 4344 |  736 |  87 | 360 | 1 | Semiurban | N |\n| LP001630 | Male | No  | 0  | Not Graduate | No  | 2333 | 1451 | 102 | 480 | 0 | Urban     | N |\n| LP001653 | Male | No  | 0  | Not Graduate | No  | 4885 |    0 |  48 | 360 | 1 | Rural     | Y |\n| LP001657 | Male | Yes | 0  | Not Graduate | No  | 6033 |    0 | 160 | 360 | 1 | Urban     | N |\n| LP001674 | Male | Yes | 1  | Not Graduate | No  | 2600 | 2500 |  90 | 360 | 1 | Semiurban | Y |\n| ⋮ | ⋮ | ⋮ | ⋮ | ⋮ | ⋮ | ⋮ | ⋮ | ⋮ | ⋮ | ⋮ | ⋮ | ⋮ |\n| LP002332 | Male | Yes | 0  | Not Graduate | No  | 2253 | 2033 | 110 | 360 | 1 | Rural     | Y |\n| LP002370 | Male | No  | 0  | Not Graduate | No  | 2717 |    0 |  60 | 180 | 1 | Urban     | Y |\n| LP002418 | Male | No  | 3+ | Not Graduate | No  | 4707 | 1993 | 148 | 360 | 1 | Semiurban | Y |\n| LP002434 | Male | Yes | 2  | Not Graduate | No  | 4652 |    0 | 110 | 360 | 1 | Rural     | Y |\n| LP002446 | Male | Yes | 2  | Not Graduate | No  | 2309 | 1255 | 125 | 360 | 0 | Rural     | N |\n| LP002500 | Male | Yes | 3+ | Not Graduate | No  | 2947 | 1664 |  70 | 180 | 0 | Urban     | N |\n| LP002517 | Male | Yes | 1  | Not Graduate | No  | 2653 | 1500 | 113 | 180 | 0 | Rural     | N |\n| LP002536 | Male | Yes | 3+ | Not Graduate | No  | 3095 |    0 | 113 | 360 | 1 | Rural     | Y |\n| LP002544 | Male | Yes | 1  | Not Graduate | No  | 1958 | 2436 | 131 | 360 | 1 | Rural     | Y |\n| LP002571 | Male | No  | 0  | Not Graduate | No  | 3691 |    0 | 110 | 360 | 1 | Rural     | Y |\n| LP002587 | Male | Yes | 0  | Not Graduate | No  | 2600 | 1700 | 107 | 360 | 1 | Rural     | Y |\n| LP002619 | Male | Yes | 0  | Not Graduate | No  | 3814 | 1483 | 124 | 300 | 1 | Semiurban | Y |\n| LP002637 | Male | No  | 0  | Not Graduate | No  | 3598 | 1287 | 100 | 360 | 1 | Rural     | N |\n| LP002682 | Male | Yes | <!----> | Not Graduate | No  | 3074 | 1800 | 123 | 360 | 0 | Semiurban | N |\n| LP002689 | Male | Yes | 2  | Not Graduate | No  | 2192 | 1742 |  45 | 360 | 1 | Semiurban | Y |\n| LP002706 | Male | Yes | 1  | Not Graduate | No  | 5285 | 1430 | 161 | 360 | 0 | Semiurban | Y |\n| LP002714 | Male | No  | 1  | Not Graduate | No  | 2679 | 1302 |  94 | 360 | 1 | Semiurban | Y |\n| LP002716 | Male | No  | 0  | Not Graduate | No  | 6783 |    0 | 130 | 360 | 1 | Semiurban | Y |\n| LP002732 | Male | No  | 0  | Not Graduate | <!----> | 2550 | 2042 | 126 | 360 | 1 | Rural     | Y |\n| LP002739 | Male | Yes | 0  | Not Graduate | No  | 2917 |  536 |  66 | 360 | 1 | Rural     | N |\n| LP002755 | Male | Yes | 1  | Not Graduate | No  | 2239 | 2524 | 128 | 360 | 1 | Urban     | Y |\n| LP002768 | Male | No  | 0  | Not Graduate | No  | 3358 |    0 |  80 |  36 | 1 | Semiurban | N |\n| LP002788 | Male | Yes | 0  | Not Graduate | No  | 2454 | 2333 | 181 | 360 | 0 | Urban     | N |\n| LP002807 | Male | Yes | 2  | Not Graduate | No  | 3675 |  242 | 108 | 360 | 1 | Semiurban | Y |\n| LP002821 | Male | No  | 0  | Not Graduate | Yes | 5800 |    0 | 132 | 360 | 1 | Semiurban | Y |\n| LP002862 | Male | Yes | 2  | Not Graduate | No  | 6125 | 1625 | 187 | 480 | 1 | Semiurban | N |\n| LP002940 | Male | No  | 0  | Not Graduate | No  | 3833 |    0 | 110 | 360 | 1 | Rural     | Y |\n| LP002941 | Male | Yes | 2  | Not Graduate | Yes | 6383 | 1000 | 187 | 360 | 1 | Rural     | N |\n| LP002950 | Male | Yes | 0  | Not Graduate | <!----> | 2894 | 2792 | 155 | 360 | 1 | Rural     | Y |\n| LP002964 | Male | Yes | 2  | Not Graduate | No  | 3987 | 1411 | 157 | 360 | 1 | Rural     | Y |\n\n",
            "text/latex": "A data.frame: 92 × 13\n\\begin{tabular}{lllllllllllll}\n Loan\\_ID & Gender & Married & Dependents & Education & Self\\_Employed & ApplicantIncome & CoapplicantIncome & LoanAmount & Loan\\_Amount\\_Term & Credit\\_History & Property\\_Area & Loan\\_Status\\\\\n <chr> & <chr> & <chr> & <chr> & <chr> & <chr> & <int> & <dbl> & <int> & <int> & <int> & <chr> & <chr>\\\\\n\\hline\n\t LP001006 & Male & Yes & 0  & Not Graduate & No  & 2583 & 2358 & 120 & 360 & 1 & Urban     & Y\\\\\n\t LP001013 & Male & Yes & 0  & Not Graduate & No  & 2333 & 1516 &  95 & 360 & 1 & Urban     & Y\\\\\n\t LP001038 & Male & Yes & 0  & Not Graduate & No  & 4887 &    0 & 133 & 360 & 1 & Rural     & N\\\\\n\t LP001043 & Male & Yes & 0  & Not Graduate & No  & 7660 &    0 & 104 & 360 & 0 & Urban     & N\\\\\n\t LP001047 & Male & Yes & 0  & Not Graduate & No  & 2600 & 1911 & 116 & 360 & 0 & Semiurban & N\\\\\n\t LP001073 & Male & Yes & 2  & Not Graduate & No  & 4226 & 1040 & 110 & 360 & 1 & Urban     & Y\\\\\n\t LP001086 & Male & No  & 0  & Not Graduate & No  & 1442 &    0 &  35 & 360 & 1 & Urban     & N\\\\\n\t LP001116 & Male & No  & 0  & Not Graduate & No  & 3748 & 1668 & 110 & 360 & 1 & Semiurban & Y\\\\\n\t LP001199 & Male & Yes & 2  & Not Graduate & No  & 3357 & 2859 & 144 & 360 & 1 & Urban     & Y\\\\\n\t LP001207 & Male & Yes & 0  & Not Graduate & Yes & 2609 & 3449 & 165 & 180 & 0 & Rural     & N\\\\\n\t LP001228 & Male & No  & 0  & Not Graduate & No  & 3200 & 2254 & 126 & 180 & 0 & Urban     & N\\\\\n\t LP001238 & Male & Yes & 3+ & Not Graduate & Yes & 7100 &    0 & 125 &  60 & 1 & Urban     & Y\\\\\n\t LP001245 & Male & Yes & 2  & Not Graduate & Yes & 1875 & 1875 &  97 & 360 & 1 & Semiurban & Y\\\\\n\t LP001319 & Male & Yes & 2  & Not Graduate & No  & 3273 & 1820 &  81 & 360 & 1 & Urban     & Y\\\\\n\t LP001325 & Male & No  & 0  & Not Graduate & No  & 3620 &    0 &  25 & 120 & 1 & Semiurban & Y\\\\\n\t LP001334 & Male & Yes & 0  & Not Graduate & No  & 4188 &    0 & 115 & 180 & 1 & Semiurban & Y\\\\\n\t LP001345 & Male & Yes & 2  & Not Graduate & No  & 4288 & 3263 & 133 & 180 & 1 & Urban     & Y\\\\\n\t LP001370 & Male & No  & 0  & Not Graduate &     & 7333 &    0 & 120 & 360 & 1 & Rural     & N\\\\\n\t LP001384 & Male & Yes & 3+ & Not Graduate & No  & 2071 &  754 &  94 & 480 & 1 & Semiurban & Y\\\\\n\t LP001439 & Male & Yes & 0  & Not Graduate & No  & 4300 & 2014 & 194 & 360 & 1 & Rural     & Y\\\\\n\t LP001493 & Male & Yes & 2  & Not Graduate & No  & 4200 & 1430 & 129 & 360 & 1 & Rural     & N\\\\\n\t LP001532 & Male & Yes & 2  & Not Graduate & No  & 2281 &    0 & 113 & 360 & 1 & Rural     & N\\\\\n\t LP001560 & Male & Yes & 0  & Not Graduate & No  & 1863 & 1041 &  98 & 360 & 1 & Semiurban & Y\\\\\n\t LP001581 & Male & Yes & 0  & Not Graduate &     & 1820 & 1769 &  95 & 360 & 1 & Rural     & Y\\\\\n\t LP001586 & Male & Yes & 3+ & Not Graduate & No  & 3522 &    0 &  81 & 180 & 1 & Rural     & N\\\\\n\t LP001603 & Male & Yes & 0  & Not Graduate & Yes & 4344 &  736 &  87 & 360 & 1 & Semiurban & N\\\\\n\t LP001630 & Male & No  & 0  & Not Graduate & No  & 2333 & 1451 & 102 & 480 & 0 & Urban     & N\\\\\n\t LP001653 & Male & No  & 0  & Not Graduate & No  & 4885 &    0 &  48 & 360 & 1 & Rural     & Y\\\\\n\t LP001657 & Male & Yes & 0  & Not Graduate & No  & 6033 &    0 & 160 & 360 & 1 & Urban     & N\\\\\n\t LP001674 & Male & Yes & 1  & Not Graduate & No  & 2600 & 2500 &  90 & 360 & 1 & Semiurban & Y\\\\\n\t ⋮ & ⋮ & ⋮ & ⋮ & ⋮ & ⋮ & ⋮ & ⋮ & ⋮ & ⋮ & ⋮ & ⋮ & ⋮\\\\\n\t LP002332 & Male & Yes & 0  & Not Graduate & No  & 2253 & 2033 & 110 & 360 & 1 & Rural     & Y\\\\\n\t LP002370 & Male & No  & 0  & Not Graduate & No  & 2717 &    0 &  60 & 180 & 1 & Urban     & Y\\\\\n\t LP002418 & Male & No  & 3+ & Not Graduate & No  & 4707 & 1993 & 148 & 360 & 1 & Semiurban & Y\\\\\n\t LP002434 & Male & Yes & 2  & Not Graduate & No  & 4652 &    0 & 110 & 360 & 1 & Rural     & Y\\\\\n\t LP002446 & Male & Yes & 2  & Not Graduate & No  & 2309 & 1255 & 125 & 360 & 0 & Rural     & N\\\\\n\t LP002500 & Male & Yes & 3+ & Not Graduate & No  & 2947 & 1664 &  70 & 180 & 0 & Urban     & N\\\\\n\t LP002517 & Male & Yes & 1  & Not Graduate & No  & 2653 & 1500 & 113 & 180 & 0 & Rural     & N\\\\\n\t LP002536 & Male & Yes & 3+ & Not Graduate & No  & 3095 &    0 & 113 & 360 & 1 & Rural     & Y\\\\\n\t LP002544 & Male & Yes & 1  & Not Graduate & No  & 1958 & 2436 & 131 & 360 & 1 & Rural     & Y\\\\\n\t LP002571 & Male & No  & 0  & Not Graduate & No  & 3691 &    0 & 110 & 360 & 1 & Rural     & Y\\\\\n\t LP002587 & Male & Yes & 0  & Not Graduate & No  & 2600 & 1700 & 107 & 360 & 1 & Rural     & Y\\\\\n\t LP002619 & Male & Yes & 0  & Not Graduate & No  & 3814 & 1483 & 124 & 300 & 1 & Semiurban & Y\\\\\n\t LP002637 & Male & No  & 0  & Not Graduate & No  & 3598 & 1287 & 100 & 360 & 1 & Rural     & N\\\\\n\t LP002682 & Male & Yes &    & Not Graduate & No  & 3074 & 1800 & 123 & 360 & 0 & Semiurban & N\\\\\n\t LP002689 & Male & Yes & 2  & Not Graduate & No  & 2192 & 1742 &  45 & 360 & 1 & Semiurban & Y\\\\\n\t LP002706 & Male & Yes & 1  & Not Graduate & No  & 5285 & 1430 & 161 & 360 & 0 & Semiurban & Y\\\\\n\t LP002714 & Male & No  & 1  & Not Graduate & No  & 2679 & 1302 &  94 & 360 & 1 & Semiurban & Y\\\\\n\t LP002716 & Male & No  & 0  & Not Graduate & No  & 6783 &    0 & 130 & 360 & 1 & Semiurban & Y\\\\\n\t LP002732 & Male & No  & 0  & Not Graduate &     & 2550 & 2042 & 126 & 360 & 1 & Rural     & Y\\\\\n\t LP002739 & Male & Yes & 0  & Not Graduate & No  & 2917 &  536 &  66 & 360 & 1 & Rural     & N\\\\\n\t LP002755 & Male & Yes & 1  & Not Graduate & No  & 2239 & 2524 & 128 & 360 & 1 & Urban     & Y\\\\\n\t LP002768 & Male & No  & 0  & Not Graduate & No  & 3358 &    0 &  80 &  36 & 1 & Semiurban & N\\\\\n\t LP002788 & Male & Yes & 0  & Not Graduate & No  & 2454 & 2333 & 181 & 360 & 0 & Urban     & N\\\\\n\t LP002807 & Male & Yes & 2  & Not Graduate & No  & 3675 &  242 & 108 & 360 & 1 & Semiurban & Y\\\\\n\t LP002821 & Male & No  & 0  & Not Graduate & Yes & 5800 &    0 & 132 & 360 & 1 & Semiurban & Y\\\\\n\t LP002862 & Male & Yes & 2  & Not Graduate & No  & 6125 & 1625 & 187 & 480 & 1 & Semiurban & N\\\\\n\t LP002940 & Male & No  & 0  & Not Graduate & No  & 3833 &    0 & 110 & 360 & 1 & Rural     & Y\\\\\n\t LP002941 & Male & Yes & 2  & Not Graduate & Yes & 6383 & 1000 & 187 & 360 & 1 & Rural     & N\\\\\n\t LP002950 & Male & Yes & 0  & Not Graduate &     & 2894 & 2792 & 155 & 360 & 1 & Rural     & Y\\\\\n\t LP002964 & Male & Yes & 2  & Not Graduate & No  & 3987 & 1411 & 157 & 360 & 1 & Rural     & Y\\\\\n\\end{tabular}\n",
            "text/plain": [
              "   Loan_ID  Gender Married Dependents Education    Self_Employed\n",
              "1  LP001006 Male   Yes     0          Not Graduate No           \n",
              "2  LP001013 Male   Yes     0          Not Graduate No           \n",
              "3  LP001038 Male   Yes     0          Not Graduate No           \n",
              "4  LP001043 Male   Yes     0          Not Graduate No           \n",
              "5  LP001047 Male   Yes     0          Not Graduate No           \n",
              "6  LP001073 Male   Yes     2          Not Graduate No           \n",
              "7  LP001086 Male   No      0          Not Graduate No           \n",
              "8  LP001116 Male   No      0          Not Graduate No           \n",
              "9  LP001199 Male   Yes     2          Not Graduate No           \n",
              "10 LP001207 Male   Yes     0          Not Graduate Yes          \n",
              "11 LP001228 Male   No      0          Not Graduate No           \n",
              "12 LP001238 Male   Yes     3+         Not Graduate Yes          \n",
              "13 LP001245 Male   Yes     2          Not Graduate Yes          \n",
              "14 LP001319 Male   Yes     2          Not Graduate No           \n",
              "15 LP001325 Male   No      0          Not Graduate No           \n",
              "16 LP001334 Male   Yes     0          Not Graduate No           \n",
              "17 LP001345 Male   Yes     2          Not Graduate No           \n",
              "18 LP001370 Male   No      0          Not Graduate              \n",
              "19 LP001384 Male   Yes     3+         Not Graduate No           \n",
              "20 LP001439 Male   Yes     0          Not Graduate No           \n",
              "21 LP001493 Male   Yes     2          Not Graduate No           \n",
              "22 LP001532 Male   Yes     2          Not Graduate No           \n",
              "23 LP001560 Male   Yes     0          Not Graduate No           \n",
              "24 LP001581 Male   Yes     0          Not Graduate              \n",
              "25 LP001586 Male   Yes     3+         Not Graduate No           \n",
              "26 LP001603 Male   Yes     0          Not Graduate Yes          \n",
              "27 LP001630 Male   No      0          Not Graduate No           \n",
              "28 LP001653 Male   No      0          Not Graduate No           \n",
              "29 LP001657 Male   Yes     0          Not Graduate No           \n",
              "30 LP001674 Male   Yes     1          Not Graduate No           \n",
              "⋮  ⋮        ⋮      ⋮       ⋮          ⋮            ⋮            \n",
              "63 LP002332 Male   Yes     0          Not Graduate No           \n",
              "64 LP002370 Male   No      0          Not Graduate No           \n",
              "65 LP002418 Male   No      3+         Not Graduate No           \n",
              "66 LP002434 Male   Yes     2          Not Graduate No           \n",
              "67 LP002446 Male   Yes     2          Not Graduate No           \n",
              "68 LP002500 Male   Yes     3+         Not Graduate No           \n",
              "69 LP002517 Male   Yes     1          Not Graduate No           \n",
              "70 LP002536 Male   Yes     3+         Not Graduate No           \n",
              "71 LP002544 Male   Yes     1          Not Graduate No           \n",
              "72 LP002571 Male   No      0          Not Graduate No           \n",
              "73 LP002587 Male   Yes     0          Not Graduate No           \n",
              "74 LP002619 Male   Yes     0          Not Graduate No           \n",
              "75 LP002637 Male   No      0          Not Graduate No           \n",
              "76 LP002682 Male   Yes                Not Graduate No           \n",
              "77 LP002689 Male   Yes     2          Not Graduate No           \n",
              "78 LP002706 Male   Yes     1          Not Graduate No           \n",
              "79 LP002714 Male   No      1          Not Graduate No           \n",
              "80 LP002716 Male   No      0          Not Graduate No           \n",
              "81 LP002732 Male   No      0          Not Graduate              \n",
              "82 LP002739 Male   Yes     0          Not Graduate No           \n",
              "83 LP002755 Male   Yes     1          Not Graduate No           \n",
              "84 LP002768 Male   No      0          Not Graduate No           \n",
              "85 LP002788 Male   Yes     0          Not Graduate No           \n",
              "86 LP002807 Male   Yes     2          Not Graduate No           \n",
              "87 LP002821 Male   No      0          Not Graduate Yes          \n",
              "88 LP002862 Male   Yes     2          Not Graduate No           \n",
              "89 LP002940 Male   No      0          Not Graduate No           \n",
              "90 LP002941 Male   Yes     2          Not Graduate Yes          \n",
              "91 LP002950 Male   Yes     0          Not Graduate              \n",
              "92 LP002964 Male   Yes     2          Not Graduate No           \n",
              "   ApplicantIncome CoapplicantIncome LoanAmount Loan_Amount_Term Credit_History\n",
              "1  2583            2358              120        360              1             \n",
              "2  2333            1516               95        360              1             \n",
              "3  4887               0              133        360              1             \n",
              "4  7660               0              104        360              0             \n",
              "5  2600            1911              116        360              0             \n",
              "6  4226            1040              110        360              1             \n",
              "7  1442               0               35        360              1             \n",
              "8  3748            1668              110        360              1             \n",
              "9  3357            2859              144        360              1             \n",
              "10 2609            3449              165        180              0             \n",
              "11 3200            2254              126        180              0             \n",
              "12 7100               0              125         60              1             \n",
              "13 1875            1875               97        360              1             \n",
              "14 3273            1820               81        360              1             \n",
              "15 3620               0               25        120              1             \n",
              "16 4188               0              115        180              1             \n",
              "17 4288            3263              133        180              1             \n",
              "18 7333               0              120        360              1             \n",
              "19 2071             754               94        480              1             \n",
              "20 4300            2014              194        360              1             \n",
              "21 4200            1430              129        360              1             \n",
              "22 2281               0              113        360              1             \n",
              "23 1863            1041               98        360              1             \n",
              "24 1820            1769               95        360              1             \n",
              "25 3522               0               81        180              1             \n",
              "26 4344             736               87        360              1             \n",
              "27 2333            1451              102        480              0             \n",
              "28 4885               0               48        360              1             \n",
              "29 6033               0              160        360              1             \n",
              "30 2600            2500               90        360              1             \n",
              "⋮  ⋮               ⋮                 ⋮          ⋮                ⋮             \n",
              "63 2253            2033              110        360              1             \n",
              "64 2717               0               60        180              1             \n",
              "65 4707            1993              148        360              1             \n",
              "66 4652               0              110        360              1             \n",
              "67 2309            1255              125        360              0             \n",
              "68 2947            1664               70        180              0             \n",
              "69 2653            1500              113        180              0             \n",
              "70 3095               0              113        360              1             \n",
              "71 1958            2436              131        360              1             \n",
              "72 3691               0              110        360              1             \n",
              "73 2600            1700              107        360              1             \n",
              "74 3814            1483              124        300              1             \n",
              "75 3598            1287              100        360              1             \n",
              "76 3074            1800              123        360              0             \n",
              "77 2192            1742               45        360              1             \n",
              "78 5285            1430              161        360              0             \n",
              "79 2679            1302               94        360              1             \n",
              "80 6783               0              130        360              1             \n",
              "81 2550            2042              126        360              1             \n",
              "82 2917             536               66        360              1             \n",
              "83 2239            2524              128        360              1             \n",
              "84 3358               0               80         36              1             \n",
              "85 2454            2333              181        360              0             \n",
              "86 3675             242              108        360              1             \n",
              "87 5800               0              132        360              1             \n",
              "88 6125            1625              187        480              1             \n",
              "89 3833               0              110        360              1             \n",
              "90 6383            1000              187        360              1             \n",
              "91 2894            2792              155        360              1             \n",
              "92 3987            1411              157        360              1             \n",
              "   Property_Area Loan_Status\n",
              "1  Urban         Y          \n",
              "2  Urban         Y          \n",
              "3  Rural         N          \n",
              "4  Urban         N          \n",
              "5  Semiurban     N          \n",
              "6  Urban         Y          \n",
              "7  Urban         N          \n",
              "8  Semiurban     Y          \n",
              "9  Urban         Y          \n",
              "10 Rural         N          \n",
              "11 Urban         N          \n",
              "12 Urban         Y          \n",
              "13 Semiurban     Y          \n",
              "14 Urban         Y          \n",
              "15 Semiurban     Y          \n",
              "16 Semiurban     Y          \n",
              "17 Urban         Y          \n",
              "18 Rural         N          \n",
              "19 Semiurban     Y          \n",
              "20 Rural         Y          \n",
              "21 Rural         N          \n",
              "22 Rural         N          \n",
              "23 Semiurban     Y          \n",
              "24 Rural         Y          \n",
              "25 Rural         N          \n",
              "26 Semiurban     N          \n",
              "27 Urban         N          \n",
              "28 Rural         Y          \n",
              "29 Urban         N          \n",
              "30 Semiurban     Y          \n",
              "⋮  ⋮             ⋮          \n",
              "63 Rural         Y          \n",
              "64 Urban         Y          \n",
              "65 Semiurban     Y          \n",
              "66 Rural         Y          \n",
              "67 Rural         N          \n",
              "68 Urban         N          \n",
              "69 Rural         N          \n",
              "70 Rural         Y          \n",
              "71 Rural         Y          \n",
              "72 Rural         Y          \n",
              "73 Rural         Y          \n",
              "74 Semiurban     Y          \n",
              "75 Rural         N          \n",
              "76 Semiurban     N          \n",
              "77 Semiurban     Y          \n",
              "78 Semiurban     Y          \n",
              "79 Semiurban     Y          \n",
              "80 Semiurban     Y          \n",
              "81 Rural         Y          \n",
              "82 Rural         N          \n",
              "83 Urban         Y          \n",
              "84 Semiurban     N          \n",
              "85 Urban         N          \n",
              "86 Semiurban     Y          \n",
              "87 Semiurban     Y          \n",
              "88 Semiurban     N          \n",
              "89 Rural         Y          \n",
              "90 Rural         N          \n",
              "91 Rural         Y          \n",
              "92 Rural         Y          "
            ]
          },
          "metadata": {}
        }
      ]
    },
    {
      "cell_type": "code",
      "source": [
        "nrow(data %>% filter(Gender=='Male' & Education==\"Not Graduate\"))"
      ],
      "metadata": {
        "colab": {
          "base_uri": "https://localhost:8080/",
          "height": 34
        },
        "id": "lX34lcjl34Uq",
        "outputId": "8107d3c0-0e11-49bf-e109-fd530d1ba217"
      },
      "execution_count": null,
      "outputs": [
        {
          "output_type": "display_data",
          "data": {
            "text/html": [
              "92"
            ],
            "text/markdown": "92",
            "text/latex": "92",
            "text/plain": [
              "[1] 92"
            ]
          },
          "metadata": {}
        }
      ]
    },
    {
      "cell_type": "markdown",
      "source": [
        "#filter method is used to select male applicants who graduated. Then arrange method is used to order these applicants according to income"
      ],
      "metadata": {
        "id": "RquGuXQ8w_r0"
      }
    },
    {
      "cell_type": "code",
      "source": [
        "head(data %>% filter(Gender=='Male' & Education==\"Graduate\" ) %>% arrange(desc(ApplicantIncome)),10)"
      ],
      "metadata": {
        "colab": {
          "base_uri": "https://localhost:8080/",
          "height": 411
        },
        "id": "ryxRaIHH4Mei",
        "outputId": "dd2559d8-9250-4be0-9e93-df4a12cb03b1"
      },
      "execution_count": null,
      "outputs": [
        {
          "output_type": "display_data",
          "data": {
            "text/html": [
              "<table class=\"dataframe\">\n",
              "<caption>A data.frame: 10 × 13</caption>\n",
              "<thead>\n",
              "\t<tr><th></th><th scope=col>Loan_ID</th><th scope=col>Gender</th><th scope=col>Married</th><th scope=col>Dependents</th><th scope=col>Education</th><th scope=col>Self_Employed</th><th scope=col>ApplicantIncome</th><th scope=col>CoapplicantIncome</th><th scope=col>LoanAmount</th><th scope=col>Loan_Amount_Term</th><th scope=col>Credit_History</th><th scope=col>Property_Area</th><th scope=col>Loan_Status</th></tr>\n",
              "\t<tr><th></th><th scope=col>&lt;chr&gt;</th><th scope=col>&lt;chr&gt;</th><th scope=col>&lt;chr&gt;</th><th scope=col>&lt;chr&gt;</th><th scope=col>&lt;chr&gt;</th><th scope=col>&lt;chr&gt;</th><th scope=col>&lt;int&gt;</th><th scope=col>&lt;dbl&gt;</th><th scope=col>&lt;int&gt;</th><th scope=col>&lt;int&gt;</th><th scope=col>&lt;int&gt;</th><th scope=col>&lt;chr&gt;</th><th scope=col>&lt;chr&gt;</th></tr>\n",
              "</thead>\n",
              "<tbody>\n",
              "\t<tr><th scope=row>1</th><td>LP002317</td><td>Male</td><td>Yes</td><td>3+</td><td>Graduate</td><td>No </td><td>81000</td><td>   0</td><td>360</td><td>360</td><td>0</td><td>Rural    </td><td>N</td></tr>\n",
              "\t<tr><th scope=row>2</th><td>LP002101</td><td>Male</td><td>Yes</td><td>0 </td><td>Graduate</td><td>   </td><td>63337</td><td>   0</td><td>490</td><td>180</td><td>1</td><td>Urban    </td><td>Y</td></tr>\n",
              "\t<tr><th scope=row>3</th><td>LP001536</td><td>Male</td><td>Yes</td><td>3+</td><td>Graduate</td><td>No </td><td>39999</td><td>   0</td><td>600</td><td>180</td><td>0</td><td>Semiurban</td><td>Y</td></tr>\n",
              "\t<tr><th scope=row>4</th><td>LP001640</td><td>Male</td><td>Yes</td><td>0 </td><td>Graduate</td><td>Yes</td><td>39147</td><td>4750</td><td>120</td><td>360</td><td>1</td><td>Semiurban</td><td>Y</td></tr>\n",
              "\t<tr><th scope=row>5</th><td>LP002422</td><td>Male</td><td>No </td><td>1 </td><td>Graduate</td><td>No </td><td>37719</td><td>   0</td><td>152</td><td>360</td><td>1</td><td>Semiurban</td><td>Y</td></tr>\n",
              "\t<tr><th scope=row>6</th><td>LP001637</td><td>Male</td><td>Yes</td><td>1 </td><td>Graduate</td><td>No </td><td>33846</td><td>   0</td><td>260</td><td>360</td><td>1</td><td>Semiurban</td><td>N</td></tr>\n",
              "\t<tr><th scope=row>7</th><td>LP001996</td><td>Male</td><td>No </td><td>0 </td><td>Graduate</td><td>No </td><td>20233</td><td>   0</td><td>480</td><td>360</td><td>1</td><td>Rural    </td><td>N</td></tr>\n",
              "\t<tr><th scope=row>8</th><td>LP002191</td><td>Male</td><td>Yes</td><td>0 </td><td>Graduate</td><td>No </td><td>19730</td><td>5266</td><td>570</td><td>360</td><td>1</td><td>Rural    </td><td>N</td></tr>\n",
              "\t<tr><th scope=row>9</th><td>LP002547</td><td>Male</td><td>Yes</td><td>1 </td><td>Graduate</td><td>No </td><td>18333</td><td>   0</td><td>500</td><td>360</td><td>1</td><td>Urban    </td><td>N</td></tr>\n",
              "\t<tr><th scope=row>10</th><td>LP002699</td><td>Male</td><td>Yes</td><td>2 </td><td>Graduate</td><td>Yes</td><td>17500</td><td>   0</td><td>400</td><td>360</td><td>1</td><td>Rural    </td><td>Y</td></tr>\n",
              "</tbody>\n",
              "</table>\n"
            ],
            "text/markdown": "\nA data.frame: 10 × 13\n\n| <!--/--> | Loan_ID &lt;chr&gt; | Gender &lt;chr&gt; | Married &lt;chr&gt; | Dependents &lt;chr&gt; | Education &lt;chr&gt; | Self_Employed &lt;chr&gt; | ApplicantIncome &lt;int&gt; | CoapplicantIncome &lt;dbl&gt; | LoanAmount &lt;int&gt; | Loan_Amount_Term &lt;int&gt; | Credit_History &lt;int&gt; | Property_Area &lt;chr&gt; | Loan_Status &lt;chr&gt; |\n|---|---|---|---|---|---|---|---|---|---|---|---|---|---|\n| 1 | LP002317 | Male | Yes | 3+ | Graduate | No  | 81000 |    0 | 360 | 360 | 0 | Rural     | N |\n| 2 | LP002101 | Male | Yes | 0  | Graduate | <!----> | 63337 |    0 | 490 | 180 | 1 | Urban     | Y |\n| 3 | LP001536 | Male | Yes | 3+ | Graduate | No  | 39999 |    0 | 600 | 180 | 0 | Semiurban | Y |\n| 4 | LP001640 | Male | Yes | 0  | Graduate | Yes | 39147 | 4750 | 120 | 360 | 1 | Semiurban | Y |\n| 5 | LP002422 | Male | No  | 1  | Graduate | No  | 37719 |    0 | 152 | 360 | 1 | Semiurban | Y |\n| 6 | LP001637 | Male | Yes | 1  | Graduate | No  | 33846 |    0 | 260 | 360 | 1 | Semiurban | N |\n| 7 | LP001996 | Male | No  | 0  | Graduate | No  | 20233 |    0 | 480 | 360 | 1 | Rural     | N |\n| 8 | LP002191 | Male | Yes | 0  | Graduate | No  | 19730 | 5266 | 570 | 360 | 1 | Rural     | N |\n| 9 | LP002547 | Male | Yes | 1  | Graduate | No  | 18333 |    0 | 500 | 360 | 1 | Urban     | N |\n| 10 | LP002699 | Male | Yes | 2  | Graduate | Yes | 17500 |    0 | 400 | 360 | 1 | Rural     | Y |\n\n",
            "text/latex": "A data.frame: 10 × 13\n\\begin{tabular}{r|lllllllllllll}\n  & Loan\\_ID & Gender & Married & Dependents & Education & Self\\_Employed & ApplicantIncome & CoapplicantIncome & LoanAmount & Loan\\_Amount\\_Term & Credit\\_History & Property\\_Area & Loan\\_Status\\\\\n  & <chr> & <chr> & <chr> & <chr> & <chr> & <chr> & <int> & <dbl> & <int> & <int> & <int> & <chr> & <chr>\\\\\n\\hline\n\t1 & LP002317 & Male & Yes & 3+ & Graduate & No  & 81000 &    0 & 360 & 360 & 0 & Rural     & N\\\\\n\t2 & LP002101 & Male & Yes & 0  & Graduate &     & 63337 &    0 & 490 & 180 & 1 & Urban     & Y\\\\\n\t3 & LP001536 & Male & Yes & 3+ & Graduate & No  & 39999 &    0 & 600 & 180 & 0 & Semiurban & Y\\\\\n\t4 & LP001640 & Male & Yes & 0  & Graduate & Yes & 39147 & 4750 & 120 & 360 & 1 & Semiurban & Y\\\\\n\t5 & LP002422 & Male & No  & 1  & Graduate & No  & 37719 &    0 & 152 & 360 & 1 & Semiurban & Y\\\\\n\t6 & LP001637 & Male & Yes & 1  & Graduate & No  & 33846 &    0 & 260 & 360 & 1 & Semiurban & N\\\\\n\t7 & LP001996 & Male & No  & 0  & Graduate & No  & 20233 &    0 & 480 & 360 & 1 & Rural     & N\\\\\n\t8 & LP002191 & Male & Yes & 0  & Graduate & No  & 19730 & 5266 & 570 & 360 & 1 & Rural     & N\\\\\n\t9 & LP002547 & Male & Yes & 1  & Graduate & No  & 18333 &    0 & 500 & 360 & 1 & Urban     & N\\\\\n\t10 & LP002699 & Male & Yes & 2  & Graduate & Yes & 17500 &    0 & 400 & 360 & 1 & Rural     & Y\\\\\n\\end{tabular}\n",
            "text/plain": [
              "   Loan_ID  Gender Married Dependents Education Self_Employed ApplicantIncome\n",
              "1  LP002317 Male   Yes     3+         Graduate  No            81000          \n",
              "2  LP002101 Male   Yes     0          Graduate                63337          \n",
              "3  LP001536 Male   Yes     3+         Graduate  No            39999          \n",
              "4  LP001640 Male   Yes     0          Graduate  Yes           39147          \n",
              "5  LP002422 Male   No      1          Graduate  No            37719          \n",
              "6  LP001637 Male   Yes     1          Graduate  No            33846          \n",
              "7  LP001996 Male   No      0          Graduate  No            20233          \n",
              "8  LP002191 Male   Yes     0          Graduate  No            19730          \n",
              "9  LP002547 Male   Yes     1          Graduate  No            18333          \n",
              "10 LP002699 Male   Yes     2          Graduate  Yes           17500          \n",
              "   CoapplicantIncome LoanAmount Loan_Amount_Term Credit_History Property_Area\n",
              "1     0              360        360              0              Rural        \n",
              "2     0              490        180              1              Urban        \n",
              "3     0              600        180              0              Semiurban    \n",
              "4  4750              120        360              1              Semiurban    \n",
              "5     0              152        360              1              Semiurban    \n",
              "6     0              260        360              1              Semiurban    \n",
              "7     0              480        360              1              Rural        \n",
              "8  5266              570        360              1              Rural        \n",
              "9     0              500        360              1              Urban        \n",
              "10    0              400        360              1              Rural        \n",
              "   Loan_Status\n",
              "1  N          \n",
              "2  Y          \n",
              "3  Y          \n",
              "4  Y          \n",
              "5  Y          \n",
              "6  N          \n",
              "7  N          \n",
              "8  N          \n",
              "9  N          \n",
              "10 Y          "
            ]
          },
          "metadata": {}
        }
      ]
    },
    {
      "cell_type": "markdown",
      "source": [
        "Filter method is used again here"
      ],
      "metadata": {
        "id": "dN5esj8qxPXf"
      }
    },
    {
      "cell_type": "code",
      "source": [
        "# Finding the number of self-employed male applicants from urban area \n",
        "data %>% filter(Gender=='Male' & Self_Employed==\"Yes\" & Property_Area==\"Urban\")"
      ],
      "metadata": {
        "colab": {
          "base_uri": "https://localhost:8080/",
          "height": 631
        },
        "id": "RuT1Nyhh4zvw",
        "outputId": "0fa3a057-f249-417b-b31a-d199f0b23a82"
      },
      "execution_count": null,
      "outputs": [
        {
          "output_type": "display_data",
          "data": {
            "text/html": [
              "<table class=\"dataframe\">\n",
              "<caption>A data.frame: 17 × 13</caption>\n",
              "<thead>\n",
              "\t<tr><th scope=col>Loan_ID</th><th scope=col>Gender</th><th scope=col>Married</th><th scope=col>Dependents</th><th scope=col>Education</th><th scope=col>Self_Employed</th><th scope=col>ApplicantIncome</th><th scope=col>CoapplicantIncome</th><th scope=col>LoanAmount</th><th scope=col>Loan_Amount_Term</th><th scope=col>Credit_History</th><th scope=col>Property_Area</th><th scope=col>Loan_Status</th></tr>\n",
              "\t<tr><th scope=col>&lt;chr&gt;</th><th scope=col>&lt;chr&gt;</th><th scope=col>&lt;chr&gt;</th><th scope=col>&lt;chr&gt;</th><th scope=col>&lt;chr&gt;</th><th scope=col>&lt;chr&gt;</th><th scope=col>&lt;int&gt;</th><th scope=col>&lt;dbl&gt;</th><th scope=col>&lt;int&gt;</th><th scope=col>&lt;int&gt;</th><th scope=col>&lt;int&gt;</th><th scope=col>&lt;chr&gt;</th><th scope=col>&lt;chr&gt;</th></tr>\n",
              "</thead>\n",
              "<tbody>\n",
              "\t<tr><td>LP001005</td><td>Male</td><td>Yes</td><td>0 </td><td>Graduate    </td><td>Yes</td><td> 3000</td><td>    0</td><td> 66</td><td>360</td><td>1</td><td>Urban</td><td>Y</td></tr>\n",
              "\t<tr><td>LP001011</td><td>Male</td><td>Yes</td><td>2 </td><td>Graduate    </td><td>Yes</td><td> 5417</td><td> 4196</td><td>267</td><td>360</td><td>1</td><td>Urban</td><td>Y</td></tr>\n",
              "\t<tr><td>LP001238</td><td>Male</td><td>Yes</td><td>3+</td><td>Not Graduate</td><td>Yes</td><td> 7100</td><td>    0</td><td>125</td><td> 60</td><td>1</td><td>Urban</td><td>Y</td></tr>\n",
              "\t<tr><td>LP001259</td><td>Male</td><td>Yes</td><td>1 </td><td>Graduate    </td><td>Yes</td><td> 1000</td><td> 3022</td><td>110</td><td>360</td><td>1</td><td>Urban</td><td>N</td></tr>\n",
              "\t<tr><td>LP001451</td><td>Male</td><td>Yes</td><td>1 </td><td>Graduate    </td><td>Yes</td><td>10513</td><td> 3850</td><td>160</td><td>180</td><td>0</td><td>Urban</td><td>N</td></tr>\n",
              "\t<tr><td>LP001491</td><td>Male</td><td>Yes</td><td>2 </td><td>Graduate    </td><td>Yes</td><td> 3316</td><td> 3500</td><td> 88</td><td>360</td><td>1</td><td>Urban</td><td>Y</td></tr>\n",
              "\t<tr><td>LP001673</td><td>Male</td><td>No </td><td>0 </td><td>Graduate    </td><td>Yes</td><td>11000</td><td>    0</td><td> 83</td><td>360</td><td>1</td><td>Urban</td><td>N</td></tr>\n",
              "\t<tr><td>LP001713</td><td>Male</td><td>Yes</td><td>1 </td><td>Graduate    </td><td>Yes</td><td> 7787</td><td>    0</td><td>240</td><td>360</td><td>1</td><td>Urban</td><td>Y</td></tr>\n",
              "\t<tr><td>LP001754</td><td>Male</td><td>Yes</td><td>  </td><td>Not Graduate</td><td>Yes</td><td> 4735</td><td>    0</td><td>138</td><td>360</td><td>1</td><td>Urban</td><td>N</td></tr>\n",
              "\t<tr><td>LP001813</td><td>Male</td><td>No </td><td>0 </td><td>Graduate    </td><td>Yes</td><td> 6050</td><td> 4333</td><td>120</td><td>180</td><td>1</td><td>Urban</td><td>N</td></tr>\n",
              "\t<tr><td>LP001844</td><td>Male</td><td>No </td><td>0 </td><td>Graduate    </td><td>Yes</td><td>16250</td><td>    0</td><td>192</td><td>360</td><td>0</td><td>Urban</td><td>N</td></tr>\n",
              "\t<tr><td>LP001910</td><td>Male</td><td>No </td><td>1 </td><td>Not Graduate</td><td>Yes</td><td> 4053</td><td> 2426</td><td>158</td><td>360</td><td>0</td><td>Urban</td><td>N</td></tr>\n",
              "\t<tr><td>LP002234</td><td>Male</td><td>No </td><td>0 </td><td>Graduate    </td><td>Yes</td><td> 7167</td><td>    0</td><td>128</td><td>360</td><td>1</td><td>Urban</td><td>Y</td></tr>\n",
              "\t<tr><td>LP002342</td><td>Male</td><td>Yes</td><td>2 </td><td>Graduate    </td><td>Yes</td><td> 1600</td><td>20000</td><td>239</td><td>360</td><td>1</td><td>Urban</td><td>N</td></tr>\n",
              "\t<tr><td>LP002403</td><td>Male</td><td>No </td><td>0 </td><td>Graduate    </td><td>Yes</td><td>10416</td><td>    0</td><td>187</td><td>360</td><td>0</td><td>Urban</td><td>N</td></tr>\n",
              "\t<tr><td>LP002626</td><td>Male</td><td>Yes</td><td>0 </td><td>Graduate    </td><td>Yes</td><td> 2479</td><td> 3013</td><td>188</td><td>360</td><td>1</td><td>Urban</td><td>Y</td></tr>\n",
              "\t<tr><td>LP002938</td><td>Male</td><td>Yes</td><td>0 </td><td>Graduate    </td><td>Yes</td><td>16120</td><td>    0</td><td>260</td><td>360</td><td>1</td><td>Urban</td><td>Y</td></tr>\n",
              "</tbody>\n",
              "</table>\n"
            ],
            "text/markdown": "\nA data.frame: 17 × 13\n\n| Loan_ID &lt;chr&gt; | Gender &lt;chr&gt; | Married &lt;chr&gt; | Dependents &lt;chr&gt; | Education &lt;chr&gt; | Self_Employed &lt;chr&gt; | ApplicantIncome &lt;int&gt; | CoapplicantIncome &lt;dbl&gt; | LoanAmount &lt;int&gt; | Loan_Amount_Term &lt;int&gt; | Credit_History &lt;int&gt; | Property_Area &lt;chr&gt; | Loan_Status &lt;chr&gt; |\n|---|---|---|---|---|---|---|---|---|---|---|---|---|\n| LP001005 | Male | Yes | 0  | Graduate     | Yes |  3000 |     0 |  66 | 360 | 1 | Urban | Y |\n| LP001011 | Male | Yes | 2  | Graduate     | Yes |  5417 |  4196 | 267 | 360 | 1 | Urban | Y |\n| LP001238 | Male | Yes | 3+ | Not Graduate | Yes |  7100 |     0 | 125 |  60 | 1 | Urban | Y |\n| LP001259 | Male | Yes | 1  | Graduate     | Yes |  1000 |  3022 | 110 | 360 | 1 | Urban | N |\n| LP001451 | Male | Yes | 1  | Graduate     | Yes | 10513 |  3850 | 160 | 180 | 0 | Urban | N |\n| LP001491 | Male | Yes | 2  | Graduate     | Yes |  3316 |  3500 |  88 | 360 | 1 | Urban | Y |\n| LP001673 | Male | No  | 0  | Graduate     | Yes | 11000 |     0 |  83 | 360 | 1 | Urban | N |\n| LP001713 | Male | Yes | 1  | Graduate     | Yes |  7787 |     0 | 240 | 360 | 1 | Urban | Y |\n| LP001754 | Male | Yes | <!----> | Not Graduate | Yes |  4735 |     0 | 138 | 360 | 1 | Urban | N |\n| LP001813 | Male | No  | 0  | Graduate     | Yes |  6050 |  4333 | 120 | 180 | 1 | Urban | N |\n| LP001844 | Male | No  | 0  | Graduate     | Yes | 16250 |     0 | 192 | 360 | 0 | Urban | N |\n| LP001910 | Male | No  | 1  | Not Graduate | Yes |  4053 |  2426 | 158 | 360 | 0 | Urban | N |\n| LP002234 | Male | No  | 0  | Graduate     | Yes |  7167 |     0 | 128 | 360 | 1 | Urban | Y |\n| LP002342 | Male | Yes | 2  | Graduate     | Yes |  1600 | 20000 | 239 | 360 | 1 | Urban | N |\n| LP002403 | Male | No  | 0  | Graduate     | Yes | 10416 |     0 | 187 | 360 | 0 | Urban | N |\n| LP002626 | Male | Yes | 0  | Graduate     | Yes |  2479 |  3013 | 188 | 360 | 1 | Urban | Y |\n| LP002938 | Male | Yes | 0  | Graduate     | Yes | 16120 |     0 | 260 | 360 | 1 | Urban | Y |\n\n",
            "text/latex": "A data.frame: 17 × 13\n\\begin{tabular}{lllllllllllll}\n Loan\\_ID & Gender & Married & Dependents & Education & Self\\_Employed & ApplicantIncome & CoapplicantIncome & LoanAmount & Loan\\_Amount\\_Term & Credit\\_History & Property\\_Area & Loan\\_Status\\\\\n <chr> & <chr> & <chr> & <chr> & <chr> & <chr> & <int> & <dbl> & <int> & <int> & <int> & <chr> & <chr>\\\\\n\\hline\n\t LP001005 & Male & Yes & 0  & Graduate     & Yes &  3000 &     0 &  66 & 360 & 1 & Urban & Y\\\\\n\t LP001011 & Male & Yes & 2  & Graduate     & Yes &  5417 &  4196 & 267 & 360 & 1 & Urban & Y\\\\\n\t LP001238 & Male & Yes & 3+ & Not Graduate & Yes &  7100 &     0 & 125 &  60 & 1 & Urban & Y\\\\\n\t LP001259 & Male & Yes & 1  & Graduate     & Yes &  1000 &  3022 & 110 & 360 & 1 & Urban & N\\\\\n\t LP001451 & Male & Yes & 1  & Graduate     & Yes & 10513 &  3850 & 160 & 180 & 0 & Urban & N\\\\\n\t LP001491 & Male & Yes & 2  & Graduate     & Yes &  3316 &  3500 &  88 & 360 & 1 & Urban & Y\\\\\n\t LP001673 & Male & No  & 0  & Graduate     & Yes & 11000 &     0 &  83 & 360 & 1 & Urban & N\\\\\n\t LP001713 & Male & Yes & 1  & Graduate     & Yes &  7787 &     0 & 240 & 360 & 1 & Urban & Y\\\\\n\t LP001754 & Male & Yes &    & Not Graduate & Yes &  4735 &     0 & 138 & 360 & 1 & Urban & N\\\\\n\t LP001813 & Male & No  & 0  & Graduate     & Yes &  6050 &  4333 & 120 & 180 & 1 & Urban & N\\\\\n\t LP001844 & Male & No  & 0  & Graduate     & Yes & 16250 &     0 & 192 & 360 & 0 & Urban & N\\\\\n\t LP001910 & Male & No  & 1  & Not Graduate & Yes &  4053 &  2426 & 158 & 360 & 0 & Urban & N\\\\\n\t LP002234 & Male & No  & 0  & Graduate     & Yes &  7167 &     0 & 128 & 360 & 1 & Urban & Y\\\\\n\t LP002342 & Male & Yes & 2  & Graduate     & Yes &  1600 & 20000 & 239 & 360 & 1 & Urban & N\\\\\n\t LP002403 & Male & No  & 0  & Graduate     & Yes & 10416 &     0 & 187 & 360 & 0 & Urban & N\\\\\n\t LP002626 & Male & Yes & 0  & Graduate     & Yes &  2479 &  3013 & 188 & 360 & 1 & Urban & Y\\\\\n\t LP002938 & Male & Yes & 0  & Graduate     & Yes & 16120 &     0 & 260 & 360 & 1 & Urban & Y\\\\\n\\end{tabular}\n",
            "text/plain": [
              "   Loan_ID  Gender Married Dependents Education    Self_Employed\n",
              "1  LP001005 Male   Yes     0          Graduate     Yes          \n",
              "2  LP001011 Male   Yes     2          Graduate     Yes          \n",
              "3  LP001238 Male   Yes     3+         Not Graduate Yes          \n",
              "4  LP001259 Male   Yes     1          Graduate     Yes          \n",
              "5  LP001451 Male   Yes     1          Graduate     Yes          \n",
              "6  LP001491 Male   Yes     2          Graduate     Yes          \n",
              "7  LP001673 Male   No      0          Graduate     Yes          \n",
              "8  LP001713 Male   Yes     1          Graduate     Yes          \n",
              "9  LP001754 Male   Yes                Not Graduate Yes          \n",
              "10 LP001813 Male   No      0          Graduate     Yes          \n",
              "11 LP001844 Male   No      0          Graduate     Yes          \n",
              "12 LP001910 Male   No      1          Not Graduate Yes          \n",
              "13 LP002234 Male   No      0          Graduate     Yes          \n",
              "14 LP002342 Male   Yes     2          Graduate     Yes          \n",
              "15 LP002403 Male   No      0          Graduate     Yes          \n",
              "16 LP002626 Male   Yes     0          Graduate     Yes          \n",
              "17 LP002938 Male   Yes     0          Graduate     Yes          \n",
              "   ApplicantIncome CoapplicantIncome LoanAmount Loan_Amount_Term Credit_History\n",
              "1   3000               0              66        360              1             \n",
              "2   5417            4196             267        360              1             \n",
              "3   7100               0             125         60              1             \n",
              "4   1000            3022             110        360              1             \n",
              "5  10513            3850             160        180              0             \n",
              "6   3316            3500              88        360              1             \n",
              "7  11000               0              83        360              1             \n",
              "8   7787               0             240        360              1             \n",
              "9   4735               0             138        360              1             \n",
              "10  6050            4333             120        180              1             \n",
              "11 16250               0             192        360              0             \n",
              "12  4053            2426             158        360              0             \n",
              "13  7167               0             128        360              1             \n",
              "14  1600           20000             239        360              1             \n",
              "15 10416               0             187        360              0             \n",
              "16  2479            3013             188        360              1             \n",
              "17 16120               0             260        360              1             \n",
              "   Property_Area Loan_Status\n",
              "1  Urban         Y          \n",
              "2  Urban         Y          \n",
              "3  Urban         Y          \n",
              "4  Urban         N          \n",
              "5  Urban         N          \n",
              "6  Urban         Y          \n",
              "7  Urban         N          \n",
              "8  Urban         Y          \n",
              "9  Urban         N          \n",
              "10 Urban         N          \n",
              "11 Urban         N          \n",
              "12 Urban         N          \n",
              "13 Urban         Y          \n",
              "14 Urban         N          \n",
              "15 Urban         N          \n",
              "16 Urban         Y          \n",
              "17 Urban         Y          "
            ]
          },
          "metadata": {}
        }
      ]
    },
    {
      "cell_type": "code",
      "source": [
        "nrow(data %>% filter(Gender=='Male' & Self_Employed==\"Yes\" & Property_Area==\"Urban\"))"
      ],
      "metadata": {
        "colab": {
          "base_uri": "https://localhost:8080/",
          "height": 34
        },
        "id": "6PnC1DvN6Q3h",
        "outputId": "14d96158-46aa-4d09-fcf5-2e0b4df110e6"
      },
      "execution_count": null,
      "outputs": [
        {
          "output_type": "display_data",
          "data": {
            "text/html": [
              "17"
            ],
            "text/markdown": "17",
            "text/latex": "17",
            "text/plain": [
              "[1] 17"
            ]
          },
          "metadata": {}
        }
      ]
    },
    {
      "cell_type": "markdown",
      "source": [
        "# Visualization "
      ],
      "metadata": {
        "id": "PPr633917GwP"
      }
    },
    {
      "cell_type": "code",
      "source": [
        "\n",
        "# Making a plot where married applicants are granted loans\n",
        "ggplot(data,aes(Married=='Yes',fill=Loan_Status))+ geom_bar( position = 'dodge')"
      ],
      "metadata": {
        "colab": {
          "base_uri": "https://localhost:8080/",
          "height": 437
        },
        "id": "ScaPKjb66vCJ",
        "outputId": "8f820d23-b5bc-40c4-d88c-c250c543f368"
      },
      "execution_count": null,
      "outputs": [
        {
          "output_type": "display_data",
          "data": {
            "text/plain": [
              "plot without title"
            ],
            "image/png": "[encoded data removed]"
          },
          "metadata": {
            "image/png": {
              "width": 420,
              "height": 420
            }
          }
        }
      ]
    },
    {
      "cell_type": "markdown",
      "source": [
        "#pie chart can be made using geom_bar(). Then we use coord_polar to make the bar plot into a pie chart. The colors have been manually assigned."
      ],
      "metadata": {
        "id": "AcbhA8dTyAiN"
      }
    },
    {
      "cell_type": "code",
      "source": [
        "# Creating a pie chart for Property_area and display percentages in legend respectively\n",
        "prop_data <- data.frame(\n",
        "  group = paste0(names(table(data$Property_Area)),'->',round(as.numeric(table(data$Property_Area))/sum(as.numeric(table(data$Property_Area))),5)*100,'%'),\n",
        "  value = as.numeric(table(data$Property_Area))\n",
        "  )\n"
      ],
      "metadata": {
        "id": "420L6-2z8lai"
      },
      "execution_count": null,
      "outputs": []
    },
    {
      "cell_type": "code",
      "source": [
        "ggplot(prop_data, aes(x=\"\", y=value, fill=group))+\n",
        "geom_bar(width = 1, stat = \"identity\")+ coord_polar(\"y\", start=0)+\n",
        "geom_text(aes(label = value),position = position_stack(vjust = 0.5))+\n",
        "scale_fill_manual(values=c(\"#9933FF\",\"#33FFFF\",\"red\"))"
      ],
      "metadata": {
        "colab": {
          "base_uri": "https://localhost:8080/",
          "height": 437
        },
        "id": "rAUY4Kvq1lyt",
        "outputId": "16fe3dff-af44-4fb1-fe47-bf5e7fe9b9b9"
      },
      "execution_count": null,
      "outputs": [
        {
          "output_type": "display_data",
          "data": {
            "text/plain": [
              "plot without title"
            ],
            "image/png": "[encoded data removed]"
          },
          "metadata": {
            "image/png": {
              "width": 420,
              "height": 420
            }
          }
        }
      ]
    },
    {
      "cell_type": "markdown",
      "source": [
        "# Insights from the data  "
      ],
      "metadata": {
        "id": "Q1B_ePE1IEKi"
      }
    },
    {
      "cell_type": "markdown",
      "source": [
        "#Here we make a barplot to determine the most common loan amount term"
      ],
      "metadata": {
        "id": "_01M1JKmyT7n"
      }
    },
    {
      "cell_type": "code",
      "source": [
        "ggplot(data, aes(x=as.factor(Loan_Amount_Term),fill=as.factor(Loan_Amount_Term)))+ geom_bar()"
      ],
      "metadata": {
        "colab": {
          "base_uri": "https://localhost:8080/",
          "height": 437
        },
        "id": "4otNtR0k8YHo",
        "outputId": "c036f0e5-daad-4f8a-901e-33e5bb017a17"
      },
      "execution_count": null,
      "outputs": [
        {
          "output_type": "display_data",
          "data": {
            "text/plain": [
              "plot without title"
            ],
            "image/png": "[encoded data removed]"
          },
          "metadata": {
            "image/png": {
              "width": 420,
              "height": 420
            }
          }
        }
      ]
    },
    {
      "cell_type": "markdown",
      "source": [
        "#here we make a histogram to understand the distribution of applicant income"
      ],
      "metadata": {
        "id": "9DE0DHUUyrVe"
      }
    },
    {
      "cell_type": "code",
      "source": [
        "ggplot(data, aes(x=ApplicantIncome))+ geom_histogram(bins=5,fill=\"Orange\")"
      ],
      "metadata": {
        "id": "MVDO4NWnI94j",
        "colab": {
          "base_uri": "https://localhost:8080/",
          "height": 437
        },
        "outputId": "4d7d5439-7f38-4cee-be07-cbb7ef1e84bf"
      },
      "execution_count": null,
      "outputs": [
        {
          "output_type": "display_data",
          "data": {
            "text/plain": [
              "plot without title"
            ],
            "image/png": "[encoded data removed]"
          },
          "metadata": {
            "image/png": {
              "width": 420,
              "height": 420
            }
          }
        }
      ]
    },
    {
      "cell_type": "code",
      "source": [],
      "metadata": {
        "id": "EOVqzrmiTVP1"
      },
      "execution_count": null,
      "outputs": []
    }
  ]
}